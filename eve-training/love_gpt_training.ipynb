{
 "cells": [
  {
   "cell_type": "code",
   "execution_count": 1,
   "metadata": {},
   "outputs": [
    {
     "name": "stdout",
     "output_type": "stream",
     "text": [
      "WARNING:tensorflow:\n",
      "The TensorFlow contrib module will not be included in TensorFlow 2.0.\n",
      "For more information, please see:\n",
      "  * https://github.com/tensorflow/community/blob/master/rfcs/20180907-contrib-sunset.md\n",
      "  * https://github.com/tensorflow/addons\n",
      "  * https://github.com/tensorflow/io (for I/O related ops)\n",
      "If you depend on functionality not listed there, please file an issue.\n",
      "\n"
     ]
    }
   ],
   "source": [
    "import gpt_2_simple as gpt2\n",
    "import os\n",
    "import requests\n",
    "\n",
    "model_name = \"124M\"\n",
    "if not os.path.isdir(os.path.join(\"models\", model_name)):\n",
    "    print(f\"Downloading {model_name} model...\")\n",
    "    gpt2.download_gpt2(model_name=model_name)   # model is saved into current directory under /models/124M/"
   ]
  },
  {
   "cell_type": "markdown",
   "metadata": {},
   "source": [
    "## This cell should work!"
   ]
  },
  {
   "cell_type": "code",
   "execution_count": 2,
   "metadata": {},
   "outputs": [
    {
     "name": "stdout",
     "output_type": "stream",
     "text": [
      "[[22. 28.]\n",
      " [49. 64.]]\n"
     ]
    }
   ],
   "source": [
    "import tensorflow as tf\n",
    "with tf.device('/gpu:0'):\n",
    "    a = tf.constant([1.0, 2.0, 3.0, 4.0, 5.0, 6.0], shape=[2, 3], name='a')\n",
    "    b = tf.constant([1.0, 2.0, 3.0, 4.0, 5.0, 6.0], shape=[3, 2], name='b')\n",
    "    c = tf.matmul(a, b)\n",
    "\n",
    "with tf.Session() as test_sess:\n",
    "    print (test_sess.run(c))"
   ]
  },
  {
   "cell_type": "code",
   "execution_count": 3,
   "metadata": {},
   "outputs": [
    {
     "data": {
      "text/plain": [
       "\u001b[0;31mSignature:\u001b[0m\n",
       "\u001b[0mgpt2\u001b[0m\u001b[0;34m.\u001b[0m\u001b[0mfinetune\u001b[0m\u001b[0;34m(\u001b[0m\u001b[0;34m\u001b[0m\n",
       "\u001b[0;34m\u001b[0m    \u001b[0msess\u001b[0m\u001b[0;34m,\u001b[0m\u001b[0;34m\u001b[0m\n",
       "\u001b[0;34m\u001b[0m    \u001b[0mdataset\u001b[0m\u001b[0;34m,\u001b[0m\u001b[0;34m\u001b[0m\n",
       "\u001b[0;34m\u001b[0m    \u001b[0msteps\u001b[0m\u001b[0;34m=\u001b[0m\u001b[0;34m-\u001b[0m\u001b[0;36m1\u001b[0m\u001b[0;34m,\u001b[0m\u001b[0;34m\u001b[0m\n",
       "\u001b[0;34m\u001b[0m    \u001b[0mmodel_name\u001b[0m\u001b[0;34m=\u001b[0m\u001b[0;34m'124M'\u001b[0m\u001b[0;34m,\u001b[0m\u001b[0;34m\u001b[0m\n",
       "\u001b[0;34m\u001b[0m    \u001b[0mmodel_dir\u001b[0m\u001b[0;34m=\u001b[0m\u001b[0;34m'models'\u001b[0m\u001b[0;34m,\u001b[0m\u001b[0;34m\u001b[0m\n",
       "\u001b[0;34m\u001b[0m    \u001b[0mcombine\u001b[0m\u001b[0;34m=\u001b[0m\u001b[0;36m50000\u001b[0m\u001b[0;34m,\u001b[0m\u001b[0;34m\u001b[0m\n",
       "\u001b[0;34m\u001b[0m    \u001b[0mbatch_size\u001b[0m\u001b[0;34m=\u001b[0m\u001b[0;36m1\u001b[0m\u001b[0;34m,\u001b[0m\u001b[0;34m\u001b[0m\n",
       "\u001b[0;34m\u001b[0m    \u001b[0mlearning_rate\u001b[0m\u001b[0;34m=\u001b[0m\u001b[0;36m0.0001\u001b[0m\u001b[0;34m,\u001b[0m\u001b[0;34m\u001b[0m\n",
       "\u001b[0;34m\u001b[0m    \u001b[0maccumulate_gradients\u001b[0m\u001b[0;34m=\u001b[0m\u001b[0;36m5\u001b[0m\u001b[0;34m,\u001b[0m\u001b[0;34m\u001b[0m\n",
       "\u001b[0;34m\u001b[0m    \u001b[0mrestore_from\u001b[0m\u001b[0;34m=\u001b[0m\u001b[0;34m'latest'\u001b[0m\u001b[0;34m,\u001b[0m\u001b[0;34m\u001b[0m\n",
       "\u001b[0;34m\u001b[0m    \u001b[0mrun_name\u001b[0m\u001b[0;34m=\u001b[0m\u001b[0;34m'run1'\u001b[0m\u001b[0;34m,\u001b[0m\u001b[0;34m\u001b[0m\n",
       "\u001b[0;34m\u001b[0m    \u001b[0mcheckpoint_dir\u001b[0m\u001b[0;34m=\u001b[0m\u001b[0;34m'checkpoint'\u001b[0m\u001b[0;34m,\u001b[0m\u001b[0;34m\u001b[0m\n",
       "\u001b[0;34m\u001b[0m    \u001b[0msample_every\u001b[0m\u001b[0;34m=\u001b[0m\u001b[0;36m100\u001b[0m\u001b[0;34m,\u001b[0m\u001b[0;34m\u001b[0m\n",
       "\u001b[0;34m\u001b[0m    \u001b[0msample_length\u001b[0m\u001b[0;34m=\u001b[0m\u001b[0;36m1023\u001b[0m\u001b[0;34m,\u001b[0m\u001b[0;34m\u001b[0m\n",
       "\u001b[0;34m\u001b[0m    \u001b[0msample_num\u001b[0m\u001b[0;34m=\u001b[0m\u001b[0;36m1\u001b[0m\u001b[0;34m,\u001b[0m\u001b[0;34m\u001b[0m\n",
       "\u001b[0;34m\u001b[0m    \u001b[0mmulti_gpu\u001b[0m\u001b[0;34m=\u001b[0m\u001b[0;32mFalse\u001b[0m\u001b[0;34m,\u001b[0m\u001b[0;34m\u001b[0m\n",
       "\u001b[0;34m\u001b[0m    \u001b[0msave_every\u001b[0m\u001b[0;34m=\u001b[0m\u001b[0;36m1000\u001b[0m\u001b[0;34m,\u001b[0m\u001b[0;34m\u001b[0m\n",
       "\u001b[0;34m\u001b[0m    \u001b[0mprint_every\u001b[0m\u001b[0;34m=\u001b[0m\u001b[0;36m1\u001b[0m\u001b[0;34m,\u001b[0m\u001b[0;34m\u001b[0m\n",
       "\u001b[0;34m\u001b[0m    \u001b[0mmax_checkpoints\u001b[0m\u001b[0;34m=\u001b[0m\u001b[0;36m1\u001b[0m\u001b[0;34m,\u001b[0m\u001b[0;34m\u001b[0m\n",
       "\u001b[0;34m\u001b[0m    \u001b[0muse_memory_saving_gradients\u001b[0m\u001b[0;34m=\u001b[0m\u001b[0;32mFalse\u001b[0m\u001b[0;34m,\u001b[0m\u001b[0;34m\u001b[0m\n",
       "\u001b[0;34m\u001b[0m    \u001b[0monly_train_transformer_layers\u001b[0m\u001b[0;34m=\u001b[0m\u001b[0;32mFalse\u001b[0m\u001b[0;34m,\u001b[0m\u001b[0;34m\u001b[0m\n",
       "\u001b[0;34m\u001b[0m    \u001b[0moptimizer\u001b[0m\u001b[0;34m=\u001b[0m\u001b[0;34m'adam'\u001b[0m\u001b[0;34m,\u001b[0m\u001b[0;34m\u001b[0m\n",
       "\u001b[0;34m\u001b[0m    \u001b[0moverwrite\u001b[0m\u001b[0;34m=\u001b[0m\u001b[0;32mFalse\u001b[0m\u001b[0;34m,\u001b[0m\u001b[0;34m\u001b[0m\n",
       "\u001b[0;34m\u001b[0m\u001b[0;34m)\u001b[0m\u001b[0;34m\u001b[0m\u001b[0;34m\u001b[0m\u001b[0m\n",
       "\u001b[0;31mDocstring:\u001b[0m\n",
       "Finetunes the model on the given dataset.\n",
       "\n",
       "Adapted from https://github.com/nshepperd/gpt-2/blob/finetuning/train.py.\n",
       "See that file for parameter definitions.\n",
       "\u001b[0;31mFile:\u001b[0m      ~/anaconda3/envs/tensorflow_p37/lib/python3.7/site-packages/gpt_2_simple/gpt_2.py\n",
       "\u001b[0;31mType:\u001b[0m      function\n"
      ]
     },
     "metadata": {},
     "output_type": "display_data"
    }
   ],
   "source": [
    "gpt2.finetune?"
   ]
  },
  {
   "cell_type": "code",
   "execution_count": 4,
   "metadata": {},
   "outputs": [],
   "source": [
    "tf.reset_default_graph()\n",
    "\n",
    "sess = gpt2.start_tf_sess()"
   ]
  },
  {
   "cell_type": "code",
   "execution_count": 4,
   "metadata": {},
   "outputs": [
    {
     "name": "stdout",
     "output_type": "stream",
     "text": [
      "WARNING:tensorflow:From /home/ubuntu/anaconda3/envs/tensorflow_p37/lib/python3.7/site-packages/gpt_2_simple/src/sample.py:17: where (from tensorflow.python.ops.array_ops) is deprecated and will be removed in a future version.\n",
      "Instructions for updating:\n",
      "Use tf.where in 2.0, which has the same broadcast rule as np.where\n",
      "Loading checkpoint models/124M/model.ckpt\n",
      "INFO:tensorflow:Restoring parameters from models/124M/model.ckpt\n"
     ]
    },
    {
     "name": "stderr",
     "output_type": "stream",
     "text": [
      "  0%|          | 0/1 [00:00<?, ?it/s]"
     ]
    },
    {
     "name": "stdout",
     "output_type": "stream",
     "text": [
      "Loading dataset...\n"
     ]
    },
    {
     "name": "stderr",
     "output_type": "stream",
     "text": [
      "100%|██████████| 1/1 [00:01<00:00,  1.01s/it]\n"
     ]
    },
    {
     "name": "stdout",
     "output_type": "stream",
     "text": [
      "dataset has 144954 tokens\n",
      "Training...\n",
      "[10 | 54.45] loss=2.45 avg=2.45\n",
      "Saving checkpoint/run1_aow/model-10\n",
      "[20 | 101.08] loss=2.07 avg=2.26\n",
      "Saving checkpoint/run1_aow/model-20\n",
      "======== SAMPLE 1 ========\n",
      " It and the final part were much more like a fight, in which the enemy would be unable to defend himself. The enemy would try to kill you first before attempting to kill him. Even then they would still be outnumbered. This is part of what makes fighting dangerous.\n",
      "It is possible you can be exposed by surprise for your own good. Many natural disasters bring out the strongest defenses. If you face this, you might simply have to fight. The enemy may be able to defeat you with a smaller force. There is much in life such as this. There may be better ways of fighting. There are many ways of fighting, including fighting against the common enemy, the weak or the desperate. Of course, you may even need to attack your allies or yourself. When fighting is easy, the whole battle is worth it. When it is hard, there are many possibilities for victory. The only way of victory here is through cunning. If you do not have cunning, it will also be far better if you do not fight. When you are fighting this way, fighting is always worth it. You will have gained many advantages in this fighting, and you will also be able to defeat this enemy with ease. The best way to win is to use strategic advantage. The stronger it is, the better it is. You may well win here by employing defensive advantage (especially against weaker defenders). This will see you outclassed by your weaker defenders in all battles and on all battlefields. Winning here will also prevent your allies from supporting you when they know you may not be quite as lucky. A better strategy here is to be aggressive but not take the initiative. The more the better. 'Happiness' here is not necessarily about winning, rather it is about winning the war which is winning. Success here is being accepted and appreciated. Good war stories tell an exciting story that shows the true strengths and weaknesses of the opposing force. It is important to have a certain sense of humour, and you can tell by the way people react when they hear 'Happiness' and then get angry about it. 'Happiness' and war also reveal that war is not just about winning; it is about defeating the enemy. If you are not fighting, then you might be able to use your cunning to take advantage. This, in turn, does not guarantee victory unless you are right. If you are right, then maybe victory is just as easy as losing; if you can win it it requires far more hard to lose. War is an intense affair with many rules, including the rule of skill, precision, numbers and many others. The rules, in all, are not easy to understand. There are many ways to fight. There are many ways to fight, including fighting against the common enemy, the weak or the desperate. Of course, you may also need to attack your allies or yourself. When fighting is easy, the whole battle is worth it. When it is hard, there are many possibilities for victory. The only way of victory here is through cunning. If you do not have cunning, it will also be far better if you do not go the extra mile into hard terrain. When this is hard, you may also be vulnerable. Knowing who is next can also make you much more successful. In business, being a leader gives you a huge opportunity to grow and is a good way of training the next person. It also gives you the tools and the resources needed to gain the most out of your workforce. People who are good people get to be CEO. Those who are not can always be fired. Businesses also have many rewards and many people who are well loved. It is up to business owners to care about the well being of employees, so business people are also likely to care about what a CEO does or does not do. It is important to also care about the lives of others. Whilst a CEO is always good, people who make bad decisions can make good decisions. The same is true of employees, so the same can happen with directors, business managers and so on. A business leader is often seen by everyone else that the CEO is good and good for the business. This is called 'the double standard'. You may, for example be fired, have your pay cut whilst others are better able to take on increased responsibilities. This creates the effect of you not being 'good enough'. The reality is people want to be in charge and the CEO is often 'one of the many people who does business'. This is how it is perceived; as many believe it is possible to be better than your competitors. This may not mean it is a good idea to just be the best, but it does mean a different approach is needed. Businesses should always consider what can be done in different ways. Whilst this may not be the right way for a business, it should be done in a way that maximise efficiency. What the customer chooses is up to you, not the CEO. This also means that they should have seen the best way to deliver that product then. When this is\n",
      "\n",
      "[30 | 166.19] loss=1.98 avg=2.16\n",
      "Saving checkpoint/run1_aow/model-30\n",
      "WARNING:tensorflow:From /home/ubuntu/anaconda3/envs/tensorflow_p37/lib/python3.7/site-packages/tensorflow_core/python/training/saver.py:963: remove_checkpoint (from tensorflow.python.training.checkpoint_management) is deprecated and will be removed in a future version.\n",
      "Instructions for updating:\n",
      "Use standard file APIs to delete files with this prefix.\n",
      "[40 | 212.49] loss=1.67 avg=2.04\n",
      "Saving checkpoint/run1_aow/model-40\n",
      "======== SAMPLE 1 ========\n",
      " our fight. He will not defeat himself or his soldiers; he will only fight his own cause. --Albert Einstein\n",
      "<|startoftext|>~^~@We should beware, lest in our fighting ways come defeat we may be doomed.~}There is always the possibility of defeat and there is always risk in taking risks. The same is true for humans. Whilst you may gain or lose the war by taking risks in battle, this also does not equal victory. There is still time for both sides to do the right thing and so stay on top of important developments. The same is true for ourselves and for each other. It is good to know you are much stronger when you are much weaker.<|endoftext|>\n",
      "<|startoftext|>~^two-men~@In our fighting ways, there is no doubt that in defeating ourselves, one will meet an enemy who is more powerful than ourselves; yet neither will the other face our enemy more unfavourably.~}In general, war is won or lost by two or more men. In business, both are competitors with no certainty of success; neither is a simple matter of taking different paths.<|endoftext|>\n",
      "<|startoftext|>~^one-man~@If, on the one hand, it is possible to defeat an army of equal strength, such a victory will be obtained, but if at other times it will be impossible, then it will be impossible; if it is easy to defeat an army of equal strength, its defeat will be much more difficult.~}Experience shows that war is won and lost by two or more people. A victory gained is likely to cause people to give in to temptation and give in to defeat, just as when a successful leader creates a new culture with new ways of thinking. Winning also appears to come from the heart--the feeling of being well-disciplined and well-travelled. The same is true for motivation.<|endoftext|>\n",
      "<|startoftext|>~^his-methods must be strict~@There is no doubt that in defeating ourselves, one will meet an enemy who is more powerful than ourselves; yet neither will the other face our enemy more unfavourably.~}In general, war is won or lost by two or more people. In business, both are competitors with no certainty of success; neither is a simple matter of taking different paths.<|endoftext|>\n",
      "<|startoftext|>~^persuasive a~@On the one hand a man who will fight is impassible; on the other, he has lost all confidence.~}When an army is exhausted or has lost all trust within itself, it is tempting to resort to disorder. In both cases, though, it is better to face defeat with the same resolve as if you were fighting. This is why one should set high goals, such as defeating an overwhelming enemy, than to seek defeat where none remains.<|endoftext|>\n",
      "<|startoftext|>~^delay ground~@When we have taken certain measures, we are not able to keep the enemy at a distance.~}There is no certainty of victory on the ground, but when one takes the initiative there it is obvious what is at hand. When a force is isolated, it is easy to see where it will be strongest or weakest. At the same time, the more isolated troops are they more likely to concentrate their strength elsewhere. The same is true for ground where it is difficult to sustain troops on short term footing.<|endoftext|>\n",
      "<|startoftext|>~^men~@If, on the one hand, it is possible to defeat an army of equal strength, such a victory will be obtained, but if at other times it will be impossible, then it will be impossible; if it is easy to defeat an army of equal strength, its defeat will be much more difficult.~}Experience shows that war is won and lost by two or more people. A victory gained is likely to cause people to give in to temptation and give in to defeat, just as when a successful leader creates a new culture with new ways of thinking. Winning also appears to come from the heart--the feeling of being well-disciplined and well-travelled. The same is true for motivation.<|endoftext|>\n",
      "<|startoftext|>~^~@On the one hand a man who will fight is impassible; on the other, he has lost all confidence.~}When an army is exhausted or has lost all trust within itself, it is tempting to resort to disorder. In both cases though, though, it is better to face defeat with the same resolve as if you were fighting. This is why one should set high goals, such as defeating an overwhelming enemy, than to seek defeat where none remains.<|endoftext|>\n",
      "<\n",
      "\n",
      "[50 | 275.71] loss=1.75 avg=1.98\n",
      "Saving checkpoint/run1_aow/model-50\n",
      "[60 | 322.07] loss=1.49 avg=1.90\n",
      "Saving checkpoint/run1_aow/model-60\n",
      "======== SAMPLE 1 ========\n",
      " top|class|level|~^~@This is the art of dividing the army into four main parts, and the four corners arising from this.~}At the top are the chariots, mail-order divisions and a brigade of regiments. In the middle are the field-plans and plans. Finally, below is a hierarchy which should be familiar: the chariot can be seen here as the art of stratagem; the chariot march is the art of marching; the chariot attack is the art of attacking. Likewise at these four levels there is stratagem; the battle is about fighting.~}The art of war is very different from that of business. It is about creating a high-tech dynamic in an unpredictable time where competitors may find ways to surprise you. It must be remembered that strategy and tactics vary across businesses. It is also important to know the important principle of variation in business to compare. In this way you can develop different strategies that compare against your competitive best. This method is especially useful for businesses that require rapid innovation. The same principle applies to business strategy. This is what drives the best managers and strategists to keep constantly thinking and responding. Build in depth knowledge and practice it to your own advantage. This is the art of dividing the army into four main parts, and the four corners arising from this. At the top are the chariots, mail-order divisions and a brigade of regiments. In the middle are the field-plans and plans. Finally, below is a hierarchy which should be familiar: the chariot can be seen here as the art of stratagem; the chariot march is the art of attacking. Likewise at these four levels is stratagem; the battle is about fighting. Likewise at these four levels is stratagem...~}There are in-game strategies out there that help you out. Those include:--\n",
      "Dynamics.com: There are many variables in the game and each one impacts on your strategy, tactics and execution. This is where we get into the game analysis and decision making. In this spirit, let's look at some of the more relevant strategies that you can use. You can get away with using more of the same or different strategies. You can win by just using less of the same and less the same way.<|endoftext|>\n",
      "<|startoftext|>~^~@On the one hand, the best commander is one with foresight; the best general is one who makes the right decisions.~}It is in the best commander's eyes that he has the best chance to win, and then it is in the worst commander's eyes where he has a serious cost. In business, in particular, managers of competitors will not look kindly on you for making mistakes. Timing is everything, and mistakes happen quickly. So even if you make them, they will continue even into the final day.<|endoftext|>\n",
      "<|startoftext|>~^~@On the one hand, the best commander is one with foresight; the best general is one who makes the right decisions.~}It is in the best commander's eyes that he has the best chance to win, and then it is in the worst commander's eyes where he has a serious cost. In business, in particular, managers of competitors will not look kindly on you for making mistakes. Timing is everything, and mistakes happen quickly. So even if you make them, they will continue even into the final day.<|endoftext|>\n",
      "<|startoftext|>~^discipline~@In the army it is necessary to keep the discipline of the ruler high. Discipline is the highest goal; the high point of the army is its readiness. The rule of law is derived from the law of the land; the high ground of cities is its encampment and fortified position.~}The army needs discipline; the command is derived from wisdom. Leadership is derived from courage. Leadership is derived from the wisdom of the general. Leadership is derived from the supreme leader.~}War is won and lost by hard discipline. High ground is dangerous. There is also high ground in hostile territory. It is often better to keep high ground simply because it provides cover from the enemy and so reduces the risk of fighting in the high ground.<|endoftext|>\n",
      "<|startoftext|>~^the-army its-presence the-ground spirit-fund~@Sun Tzu said: Unity is the principle of being able to live in harmony with the world without ceasing. It is easy to become in war, easy to become in life.~}Understand unity and how to form relationships that make sense in different situations. Also understand the roles of men and women. Do not confuse unity with skill. Unity is about the ability to be united. Leadership is about acting as though you are in charge. This should be your first mission as a\n",
      "\n",
      "[70 | 385.78] loss=1.33 avg=1.81\n",
      "Saving checkpoint/run1_aow/model-70\n",
      "[80 | 432.55] loss=1.18 avg=1.73\n",
      "Saving checkpoint/run1_aow/model-80\n",
      "======== SAMPLE 1 ========\n",
      " brings it into the possession of the enemy, and then sweeps them out on his unsuspecting enemy.<|endoftext|>\n",
      "<|startoftext|>~^~@(4) By dividing men into equal number, through novices to the senior officers; henceforth he is the general.~}When you must fight, you should always have the superior numbers. When there are too few, you should concentrate. When there are too many, you should send in the strongest forces. This is what you will do in business, where there are always so many to choose from. The principle is the same for all businesses: to have more people than is necessary to keep costs down. This is the spirit behind the seven key principles of competitive strategy.<|endoftext|>\n",
      "<|startoftext|>~^~@(3) On the front line, lie far ahead of the enemy. On the back line, lie even further ahead.~}If you are far ahead in any given area, then the enemy will still be far behind you. In this way, you can hold off an attack with shorter distances. In business, you should consider both front and back ground before deciding whether to attack or away.<|endoftext|>\n",
      "<|startoftext|>~^the-ground~@Therefore there is nothing in warfare more essential than to fight on the ground, subject to the knowledge that no one else will stand an equal fight.~}Ground has special importance in that it is both home and across which you can travel. War is one of these, so it is important that you can learn from them. At the same time, there is also a business value in sharing knowledge. Build and sustain relationships with your customers and suppliers who will spread the knowledge across all levels of the company.<|endoftext|>\n",
      "<|startoftext|>~^the-enemy a-wisdom of-warrior~@Now a wise man will give orders to his attendants--his aides-de-camp--on his authority and without discrimination, and not only obey, but also avoid all incivility and sloth. Then he will be content and amenable to the will of his superiors and not slanderer nor easily provoked.~}Proper command is important, but underwinnable, particularly where there is peril in hand. If your orders are not to the best of their ability, then they should be to the best of their ability. When you must command, do so in a spirit of shared purpose and concern for your own officers and employees. In wartime there may be good reason for doing this, for example where the enemy is being overtaken by superior forces. In such situations you may make use of a variety of indirectives. When you say 'indirectives', do not mean 'using your mind'. You must have them.<|endoftext|>\n",
      "<|startoftext|>~^the-enemy~@Therefore there is nothing in warfare more essential than to fight on the ground, subject to the knowledge that no one else will stand an equal fight.~}Ground has special importance in that it is both home and across which you can travel. War is one of these, so it is important that you can learn from them. At the same time, there is also a business value in sharing knowledge. Build and sustain relationships with your customers and suppliers who will spread the knowledge across all levels of the company.<|endoftext|>\n",
      "<|startoftext|>~^~@(3) On the front line, lie far ahead of the enemy. On the back line, lie even further ahead.~}If you are far ahead in any given area, then the enemy will still be far behind you. In this way, you can hold off an attack with shorter distances. In business, you should consider both front and back ground before deciding whether to attack or away.<|endoftext|>\n",
      "<|startoftext|>~^~@(3) On the front line, lie far ahead of the enemy. On the back line, lie even further ahead.~}If you are far ahead in any given area, then the enemy will still be far behind you. In this way, you can hold off an attack with shorter distances. In business, you should consider both front and back ground before deciding whether to attack or away.<|endoftext|>\n",
      "<|startoftext|>~^~@If at all possible, prepare in advance; to meet the mainforce should be advisable.~}On one hand, it is good to be prepared, but in the long run you should be able to defeat the mainforce first. On the other hand, you cannot let this be known, so prepare accordingly. This is why preparations are important, not just in the first battle but also in the later one.<|endoftext|>\n",
      "<|\n",
      "\n",
      "[90 | 497.31] loss=1.19 avg=1.67\n",
      "Saving checkpoint/run1_aow/model-90\n",
      "[100 | 544.05] loss=1.06 avg=1.60\n",
      "Saving checkpoint/run1_aow/model-100\n"
     ]
    }
   ],
   "source": [
    "gpt2.finetune(sess,\n",
    "              'data/aow_csv_encoded.txt',\n",
    "              model_name=model_name,\n",
    "              restore_from='latest',\n",
    "              run_name='run1_aow',\n",
    "              print_every=10,\n",
    "              sample_every=20,\n",
    "              save_every=10,\n",
    "              max_checkpoints=2,\n",
    "              steps=100)   # steps is max number of training steps"
   ]
  },
  {
   "cell_type": "code",
   "execution_count": null,
   "metadata": {},
   "outputs": [
    {
     "name": "stdout",
     "output_type": "stream",
     "text": [
      "Loading checkpoint checkpoint/run1/model-100\n",
      "INFO:tensorflow:Restoring parameters from checkpoint/run1/model-100\n"
     ]
    },
    {
     "name": "stderr",
     "output_type": "stream",
     "text": [
      "  0%|          | 0/1 [00:00<?, ?it/s]"
     ]
    },
    {
     "name": "stdout",
     "output_type": "stream",
     "text": [
      "Loading dataset...\n"
     ]
    },
    {
     "name": "stderr",
     "output_type": "stream",
     "text": [
      "100%|██████████| 1/1 [00:01<00:00,  1.11s/it]\n"
     ]
    },
    {
     "name": "stdout",
     "output_type": "stream",
     "text": [
      "dataset has 144954 tokens\n",
      "Training...\n",
      "Saving checkpoint/run1/model-100\n",
      "======== SAMPLE 1 ========\n",
      " thing, it has to do with the need and nature of the enemy. In business it is sometimes described as being 'hands on'. The people they lead are made up of people who are made up of people.<|endoftext|>\n",
      "<|startoftext|>~^~@(1) At once and without a delay, make preparations for the coming battle. Our soldiers are sent out to fight, not to battle. Yet, there is danger in preparing for a pitched battle.~}You should be ready to go into the enemy's camp when they come and be there when they come. It takes a skill at anticipating the enemy that well spent. The next day, you go to defend the front line, but you are cut off at the front and cannot return until you have secured the other side. Likewise, the next day, you are cut off at the front at which you can return only later than feared. Such is the readiness of the enemy.~}The next day you go to defend the front line, but you can not leave until you have secured the enemy. When you go to defend a position you know well, it is difficult to return without a failure. If you are not close to the enemy, finding a way to get back to you may require a second approach.<|endoftext|>\n",
      "<|startoftext|>~^~@(1) When fighting in open country, do not advance without taking advantage of the moon's cleftness.~}This is a general rule that all fighting must be seen to be believed. The opposite is also true in business--all fighting must appear against the will of the will of the customer. Such situations are what may lead to legal action or losing an argument as competitors are not fit to handle the situation correctly. In such situations, each competitor must act as if they know all about all competing and must be able to foresee none other than the long term strategy of all of them. Hence when competing in open country, it is good not to be surprised when you have a single competitor who can not handle the situation correctly.<|endoftext|>\n",
      "<|startoftext|>~^~@The principle is the same here--the closer to home the more vulnerable our person will be to attack, the wider will be his strength to withstand disadvantage, and the more highly likely an attack will be made at home the enemy will be present.~}The more vulnerable a place is to attack, the greater will be the chance of surviving the indignity of being caught. If there is no shelter, then the enemy can successfully surprise you there and use that place as a launch pad for further surprise.<|endoftext|>\n",
      "<|startoftext|>~^that-suburbs the-way the-path the-way-with~@When going through subterranean lands, the route found easiest in dry, level country is to go there first, taking the river Suez with you. It will take you no time at all to sweep down on your enemies, and you will at last defeat them in a single blow.~}Setting up camp requires you to wade in enough to gain a footing, but if you are prepared to fight for an on all fours, then you can march through without being overtaken.<|endoftext|>\n",
      "<|startoftext|>~^~@Movement without end, without gain, without reward--all that is needed is movement to get an end of the war in its proper time.~}Moving armies need to move fast to reach their destinations and at all costs to arrive. If you are going to war fast, then your army needs to travel at a rapid pace, even before they reach their destination. Speed also slows them down as you move, creating time to meet the enemy as they arrive at their destination.<|endoftext|>\n",
      "<|startoftext|>~^exhaust the-enemy~@If you fight in battle, do as is called against the will of the enemy. If, however, you do not fight and receive an equitable reward, the enemy will not fight for you, you will surely be captured and tortured for your disobedience. Evil will ensue and you wither away, like a snake.~}Fight and you will come to the rescue. If you do not fight and receive a just reward, you will likely be held responsible and tortured for your disobedience. If you do not reject such punishments, then the enemy will then be bound and unable to respect your decisions nor will they recognize your loyalty or follow your orders.<|endoftext|>\n",
      "<|startoftext|>~^the-enemy obey his-ruler~@To obey your ruler is not to be accepted.~}When you are not in power, and without a clear moral code, you will be punished accordingly. Moral code is as a tool: you can find and understand what is good\n",
      "\n",
      "[110 | 81.62] loss=0.70 avg=0.70\n",
      "Saving checkpoint/run1/model-110\n",
      "[120 | 127.95] loss=0.92 avg=0.81\n",
      "Saving checkpoint/run1/model-120\n",
      "WARNING:tensorflow:From /home/ubuntu/anaconda3/envs/tensorflow_p37/lib/python3.7/site-packages/tensorflow_core/python/training/saver.py:963: remove_checkpoint (from tensorflow.python.training.checkpoint_management) is deprecated and will be removed in a future version.\n",
      "Instructions for updating:\n",
      "Use standard file APIs to delete files with this prefix.\n",
      "[130 | 174.55] loss=0.54 avg=0.72\n",
      "Saving checkpoint/run1/model-130\n",
      "[140 | 220.90] loss=0.50 avg=0.66\n",
      "Saving checkpoint/run1/model-140\n",
      "[150 | 267.25] loss=0.34 avg=0.60\n",
      "Saving checkpoint/run1/model-150\n",
      "[160 | 313.47] loss=0.32 avg=0.55\n",
      "Saving checkpoint/run1/model-160\n",
      "[170 | 359.70] loss=0.33 avg=0.52\n",
      "Saving checkpoint/run1/model-170\n",
      "[180 | 405.87] loss=0.35 avg=0.50\n",
      "Saving checkpoint/run1/model-180\n",
      "[190 | 452.07] loss=0.23 avg=0.46\n",
      "Saving checkpoint/run1/model-190\n",
      "[200 | 498.25] loss=0.23 avg=0.44\n",
      "Saving checkpoint/run1/model-200\n",
      "======== SAMPLE 1 ========\n",
      " battle. The more direct an army is, the higher its profit. The principle is the same in chess and many other situations: If you win, get far more done doing the bidding of your opponent than you are permitted. This principle is equally applicable in business. If you can win but the CEO or board does not like it, you can move on to a better product or service. It does not necessarily follow that a better CEO or better better service is better than a better job offer. If you are not paid well, you will not get the opportunity you think you need.<|endoftext|>\n",
      "<|startoftext|>~^discipline their-forces~@The five elements (water, fire, wood, metal, earth) are not always equally predominant; the four seasons make way for each other in turn. The five precipices (feet below the ground, up, left) form contours that aid in fighting and flowing around powerful defensive devices.~}When you break things down to the fundamental elements, the predominant ones are inthe basics such as water, water dynamics, and dynamics of gears and wheels. The dynamics of water are governed by four elements: kinetic energy, dynamic force, and dynamic strain. The five forces (earth, fire, water, wood) are all about dynamic forcing. A formula for calculating these forces is found in Defense. Of course you can only use these you either have trouble winning or you must resort elsewhere.<|endoftext|>\n",
      "<|startoftext|>~^succeed~@The five elements (water, fire, wood, metal, earth) are not always equally predominant; the four seasons make way for each other in turn. The five precipices (feet below the ground, up, left) form contours that aid in fighting and flowing around powerful defensive devices.~}When you break things down to the fundamental elements, the predominant ones are inthe basics such as water, water dynamics, and dynamics of gears and wheels. The dynamics of water are all about dynamic forcing. A formula for calculating these forces is found in Defense. Of course you can only use these you either have trouble winning or you must resort elsewhere.<|endoftext|>\n",
      "<|startoftext|>~^the-enemy advantage~@Hence it is not the army's power to induce an enemy to join his host; it is the power of the liberator to induce him to join his host.~}When an army crosses paths with a highly developed race, it is highly likely they have fought against liberators before. The same is true of humans. Whilst we humans are better than their,succeed in many ways, we are also more powerful. This applies to both men and animals. Know your advantage and disadvantage and always consider the greater good. In business, know your advantage and disadvantage, and always consider the greater good.<|endoftext|>\n",
      "<|startoftext|>~^the-army~@Hence it is not the army's power to induce an enemy to join his host; it is the power of the liberator to induce him to join his host.~}When an army crosses paths with a highly developed race, it is highly likely they have fought against liberators before. The same is true of humans. Whilst we humans are better than their,succeed in many ways, we are also more powerful. This applies to both men and animals. Know your advantage and disadvantage and always consider the greater good. In business, know your advantage and disadvantage, and always consider the greater good.<|endoftext|>\n",
      "<|startoftext|>~^~@At first, then, feel free to speak of spying. For, going through channels of communication, you may die.~}Spying is not the same as \"attacking enemies\". It may be use of information to understand one's enemy. It may be sharing information about plans. It may even include secret codebreaking.As far as you can see, so far as spying goes, this is madness. You may be able to use signals intelligence (SI), or you may be able to use door-to-door spying. All of this is madness.It is foolish, of course, to invade war from a country which has been and remains a spy-issuance-country.<|endoftext|>\n",
      "<|startoftext|>~^~@Hence it is not the army's power to induce an enemy to join his host; it is the power of the liberator to induce him to join his host.~}When an army crosses paths with a highly developed race, it is highly likely they have fought against liberators before. The same is true of humans. Whilst we humans are better than their,succeed in many ways, we are also more powerful. This applies to both men and animals. Know your advantage and disadvantage and always consider the greater\n",
      "\n",
      "[210 | 561.76] loss=0.23 avg=0.42\n",
      "Saving checkpoint/run1/model-210\n",
      "[220 | 607.95] loss=0.22 avg=0.40\n",
      "Saving checkpoint/run1/model-220\n",
      "[230 | 654.26] loss=0.19 avg=0.39\n",
      "Saving checkpoint/run1/model-230\n",
      "[240 | 700.46] loss=0.15 avg=0.37\n",
      "Saving checkpoint/run1/model-240\n",
      "[250 | 746.76] loss=0.20 avg=0.36\n",
      "Saving checkpoint/run1/model-250\n",
      "[260 | 793.02] loss=0.13 avg=0.34\n",
      "Saving checkpoint/run1/model-260\n",
      "[270 | 839.27] loss=0.17 avg=0.33\n",
      "Saving checkpoint/run1/model-270\n",
      "[280 | 885.91] loss=0.13 avg=0.32\n",
      "Saving checkpoint/run1/model-280\n",
      "[290 | 932.51] loss=0.15 avg=0.31\n",
      "Saving checkpoint/run1/model-290\n",
      "[300 | 979.14] loss=0.11 avg=0.30\n",
      "Saving checkpoint/run1/model-300\n",
      "======== SAMPLE 1 ========\n",
      " watch as the enemy steadily marches, then the only alternative is to surrender.\"~}The end of a long war is not good for your reputation. It signals failure. Successful campaigns are littered with campaigns that were well-managed and with rewards for hard work. It is easy in business to cheerleaders for their tenacity, but it is much harder in competition.<|endoftext|>\n",
      "<|startoftext|>~^~@To secure ourselves against defeat lies in our own hands, but the slightest disturbance of the enemy's way requires the intervention of the State.~}Generals are not perfect. The best soldiers are not necessarily the best leaders. They are likely both and they will trade insults over this. Understand the greater potential for mismanagement and other unwise decisions.<|endoftext|>\n",
      "<|startoftext|>~^difficulty~@In hemmed-in warfare, then, make no secret of the fact that you will defend against all; in hemmed-in attack, then, wait at a distance;--this is the art of overcoming obstacles.~}History is full of failures to understand and failures to anticipate such failures. If you are not ready for the test, then the next is much harder and so on.<|endoftext|>\n",
      "<|startoftext|>~^~@When, in consequence of heavy rains up-country, a river which you wish to ford is swollen and flecked with foam, you must wait until it subsides.~}When there is nothing to move about, you must fight. If you cannot move quickly, you must fight in confusion. If you are in a strongly-willed defensive stance, then the enemy will have little time to take these three actions on their own terms. In war, this is where defensive thinking is most useful. They can see an army in a wisp of fire and react accordingly. Taking defensive stances allows you to keep them bound behind their backs, which gives them an opening to attack. When they are bound behind your back, they are vulnerable and cannot move or talk to you. It is in their neutral nature that attackers will attack, and they will panic and move at a rapid pace to avoid you.<|endoftext|>\n",
      "<|startoftext|>~^~@In hemmed-in warfare, then, make no secret of the fact that you will defend against all; in hemmed in attack, then, wait at a distance;--this is the art of overcoming obstacles.~}History is full of failures to understand and failures to anticipate such failures. If you are not ready for the test, then the next is much harder and so on.<|endoftext|>\n",
      "<|startoftext|>~^~@To secure ourselves against defeat lays in our own hands, but the slightest disturbance of the enemy's way requires the intervention of the State.~}Generals are not perfect. The best soldiers are not necessarily the best leaders. They are likely both and they will trade insults over this. Understand the greater potential for mismanagement and other unwise decisions.<|endoftext|>\n",
      "<|startoftext|>~^able~@The Moral Law causes the people to be in complete accord with their ruler, so that they will follow him regardless of whether they are soldiers, civilians, or makers of chariots.~}When a ruler acts in a moral way, showing fairness in all dealings and caring for the subjects, then the subjects willreciprocate, caring in return even to the point of death. Love begets love. Moral law is also related to harmony and ensuring alignment in all things. In business, a perform-or-perish, hire-and-fire attitude may seem good for business but does not lead to loyal employees. If you clearly care about your people they will care about you and care about the business. Leadership begets followership.<|endoftext|>\n",
      "<|startoftext|>~^~@When, in consequence of heavy rains up-country, a river which you wish to fight, is swollen and flecked with foam, you must wait until it subsides.~}When there is nothing to move about, you must fight. If you cannot move quickly, you must fight in confusion. If you are in a strongly-willed defensive stance, then the enemy will have little time to take these three actions on their own terms. In war, this is where defensive thinking is most useful. They can see an army in a wisp of fire and react accordingly. Taking defensive stances allows you to keep them bound behind their backs, which gives them an opening to attack. When they are bound behind their back, they are vulnerable and cannot move or talk to you. It is in their neutral nature that attackers will attack, and they will panic and move at a rapid pace to avoid you.<|endoftext|>\n",
      "\n",
      "[310 | 1043.51] loss=0.13 avg=0.29\n",
      "Saving checkpoint/run1/model-310\n",
      "[320 | 1090.10] loss=0.15 avg=0.28\n",
      "Saving checkpoint/run1/model-320\n",
      "[330 | 1136.55] loss=0.11 avg=0.27\n",
      "Saving checkpoint/run1/model-330\n",
      "[340 | 1183.15] loss=0.11 avg=0.27\n",
      "Saving checkpoint/run1/model-340\n",
      "[350 | 1229.70] loss=0.13 avg=0.26\n",
      "Saving checkpoint/run1/model-350\n",
      "[360 | 1276.35] loss=0.11 avg=0.25\n",
      "Saving checkpoint/run1/model-360\n",
      "[370 | 1322.90] loss=0.11 avg=0.25\n",
      "Saving checkpoint/run1/model-370\n",
      "[380 | 1369.47] loss=0.13 avg=0.24\n",
      "Saving checkpoint/run1/model-380\n",
      "[390 | 1416.08] loss=0.10 avg=0.24\n",
      "Saving checkpoint/run1/model-390\n",
      "[400 | 1462.62] loss=0.09 avg=0.23\n",
      "Saving checkpoint/run1/model-400\n",
      "======== SAMPLE 1 ========\n",
      " bay~@When an enemy leaves a garrison post, he is gone; when his antagonists besiege walled cities, they are gone.~}Laying siege to a strongly defended position is poor in many ways. It is likely to drag on for a long time. It is hard work and takes much resource. Your troops are exposed while theirs are hidden. The sheer cost of siege makes it a final option only.<|endoftext|>\n",
      "<|startoftext|>~^host enemy~@Hence it is that which none in the whole army are more intimate relations to be maintained than with spies. None should be more liberally rewarded. In no other business should greater secrecy be preserved.~}Keep your spies close. Know all that is to be known about them. Treat them well and make them feel important. Pay them well also, for their exploits and find every way to keep them motivated and loyal.<|endoftext|>\n",
      "<|startoftext|>~^outlaw cautious~@Hence it is that which none in the whole army are more intimate relations to be maintained than with spies. None should be more liberally rewarded. In no other business should greater secrecy be preserved.~}Keep your spies close. Know all that is to be known about them. Treat them well and make them feel important. Pay them well also, for their exploits and find every way to keep them motivated and loyal.<|endoftext|>\n",
      "<|startoftext|>~^outlaw~@Hence it is that which none in the whole army are more intimate relations to be maintained than with spies. None should be more liberally rewarded. In no other business should greater secrecy be preserved.~}Keep your spies close. Know all that is to be known about them. Treat them well and make them feel important. Pay them well also, for their exploits and find every way to keep them motivated and loyal.<|endoftext|>\n",
      "<|startoftext|>~^~@If asked how to best rouse a general, I should say, that he is Hieronymus Bos, the Great Spirit.~}Bos is the greatest of generals, who has been called the \"Humble Virgin\". He is the master of ceremonies and the arbiter of honor. In business he is perhaps best understood as a manager who codes and codes rewards and punishments. Those who are seen as more competent than him deserve respect. MBA students learn how to set up successful companies by ear, study how to avoid five problems and more.<|endoftext|>\n",
      "<|startoftext|>~^~@Hence it is that which none in the whole army are more intimate relations to be maintained than with spies. None should be more liberally rewarded. In no other business should greater secrecy be preserved.~}Keep your spies close. Know all that is to be known about them. Treat them well and make them feel important. Pay them well also, for their exploits and find every way to keep them motivated and loyal.<|endoftext|>\n",
      "<|startoftext|>~^the-general his-presence~@To cause a general to be aware of another's purpose and ability, is to cause him to be vigilant and to be ready for battle.~}The 'knowing' person, as they work together, will ensure that the right decisions are taken and that the right allies are made. With little collective action, each mistake will be felt fully by the commander-in-chief. Impoverished leaders create disunity and division in the first place. The first step in bringing about the intended effect is a disarray of resources and decisions. When such disorder is reached, the troops turn to one resource only--War. When it is too late to fight, the troops go to work to restore order.<|endoftext|>\n",
      "<|startoftext|>~^his-presence~@To cause a general to be aware of another's purpose and ability, is to cause him to be vigilant and to be ready for battle.~}The 'knowing' person, as they work together, will ensure that the right decisions are taken and that the right allies are made. With little collective action, each mistake will be felt fully by the commander-in-chief. Impoverished leaders create disunity and division in the first place. The first step in bringing about the intended effect is a disarray of resources and decisions. When such disorder is reached, the troops turn to one resource only--War. When it is too late to fight, the troops go to work to restore order.<|endoftext|>\n",
      "<|startoftext|>~^~@There are five dangerous faults which may affect a general: (1) Recklessness, which leads to destruction; (2) cowardice, which leads to capture; (3) a skid-mark, which\n",
      "\n",
      "[410 | 1525.56] loss=0.12 avg=0.23\n",
      "Saving checkpoint/run1/model-410\n",
      "[420 | 1571.68] loss=0.08 avg=0.22\n",
      "Saving checkpoint/run1/model-420\n",
      "[430 | 1617.85] loss=0.09 avg=0.22\n",
      "Saving checkpoint/run1/model-430\n",
      "[440 | 1664.03] loss=0.08 avg=0.21\n",
      "Saving checkpoint/run1/model-440\n",
      "[450 | 1710.23] loss=0.08 avg=0.21\n",
      "Saving checkpoint/run1/model-450\n",
      "[460 | 1756.38] loss=0.09 avg=0.20\n",
      "Saving checkpoint/run1/model-460\n",
      "[470 | 1802.56] loss=0.06 avg=0.20\n",
      "Saving checkpoint/run1/model-470\n",
      "[480 | 1848.72] loss=0.10 avg=0.20\n",
      "Saving checkpoint/run1/model-480\n",
      "[490 | 1895.10] loss=0.06 avg=0.19\n",
      "Saving checkpoint/run1/model-490\n",
      "[500 | 1941.26] loss=0.07 avg=0.19\n",
      "Saving checkpoint/run1/model-500\n",
      "======== SAMPLE 1 ========\n",
      " or and not engage in coercive tactics. Moral decision-making is made by the individual soldier who is emotionally prepared and acts accordingly, rather than by the commander. In business, competitive campaigns are more expensive than in war where military expenditure is high.<|endoftext|>\n",
      "<|startoftext|>~^dispersive~@When a chieftain is fighting in his own territory, it is dispersive ground.~}In your own territory, you should have an advantage, both knowing the ground and having friendly natives around.<|endoftext|>\n",
      "<|startoftext|>~^provide secure~@If you are ready for the storm and the heat of autumn, then you should not fight in your own territory. Fight only in your own territory.~}If you are ready for the heat of autumn, then you should not fight in your own territory. Fight only in your own territory.~}If you are ready for the heat of autumn, then you should not fight in your own territory. Fight only in your own territory.~}If you are ready for the heat of autumn, then you should not fight in your own territory. Fight only in your own territory.~}If you are ready for the heat of autumn, then you should not fight in your own territory. Fight only in your own territory.~}If you are ready for the heat of autumn, then you should not fight in your own territory. Fight only in your own territory.~}If you are ready for the heat of autumn, then you should not fight in your own territory. Fight only in your own territory.~}If you are ready for the heat of autumn, then you should not fight in your own territory. Fight only in your own territory.~}If you are ready for the heat of autumn, then you should not fight in your own territory. Fight only in your own territory.~}If you are ready for the heat of autumn, then you should not fight in your own territory. Fight only in your own territory.~}If you are ready for the heat of autumn, then you should not fight in your own territory. Fight only in your own territory.~}If you are ready for the heat of autumn, then you should not fight in your own territory. Fight only in your own territory.~}If you are ready for the heat of autumn, then you should not fight in your own territory. Fight only in your own territory.~}If you are ready for the heat of autumn, then you should not fight in your own territory. Fight only in your own territory.~}If you are ready for the heat of autumn, then you should not fight in your own territory. Fight only in your own territory.~}If you are ready for the heat of autumn, then you should not fight in your own territory. Fight only in your own territory.~}If you are ready for the heat of autumn, then you should not fight in your own territory. Fight only in your own territory.~}If you are ready for the heat of autumn, then you should not fight in your own territory. Fight only in your own territory.~}If you are ready for the heat of autumn, then you should not fight in your own territory. Fight only in your own territory.~}If you are ready for the heat of autumn, then you should not fight in your own territory. Fight only in your own territory.~}If you are ready for the heat of autumn, then you should not fight in your own territory. Fight only in your own territory.~}If you are ready for the heat of autumn, then you should not fight in your own territory. Fight only in your own territory.~}If you are ready for the heat of autumn, then you should not fight in your own territory. Fight only in your own territory.~}If you are ready for the heat of autumn, then you should not fight in your own territory. Fight only in your own territory.~}If you are ready for the heat of autumn, then you should not fight in your own territory. Fight only in your own territory.~}If you are ready for the heat of autumn, then you should not fight in your own territory. Fight only in your own territory.~}If you are ready for the heat of autumn, then you should not fight in your own territory. Fight only in your own territory.~}If you are ready for the heat of autumn, then you should not fight in your own territory. Fight only in your own territory.~}If you are ready for the heat of autumn, then you should not fight in your own territory. Fight only in your own territory.~}If you are ready for the heat of autumn, then you should not fight in your own territory. Fight only in your own territory.~}If you are ready for the heat of autumn, then you should not fight in your own territory\n",
      "\n",
      "[510 | 2004.38] loss=0.06 avg=0.18\n",
      "Saving checkpoint/run1/model-510\n",
      "[520 | 2050.62] loss=0.08 avg=0.18\n",
      "Saving checkpoint/run1/model-520\n",
      "[530 | 2096.81] loss=0.07 avg=0.18\n",
      "Saving checkpoint/run1/model-530\n",
      "[540 | 2143.05] loss=0.06 avg=0.17\n",
      "Saving checkpoint/run1/model-540\n",
      "[550 | 2189.32] loss=0.06 avg=0.17\n",
      "Saving checkpoint/run1/model-550\n"
     ]
    }
   ],
   "source": [
    "import time\n",
    "tf.reset_default_graph()\n",
    "\n",
    "sess = gpt2.start_tf_sess()\n",
    "\n",
    "start_time = time.time()\n",
    "gpt2.finetune(sess,\n",
    "              'data/aow_csv_encoded.txt',\n",
    "              model_name=model_name,\n",
    "              restore_from='latest',\n",
    "              run_name='run1',\n",
    "              print_every=10,\n",
    "              sample_every=100,\n",
    "              save_every=10,\n",
    "              max_checkpoints=2,\n",
    "              steps=900)   # steps is max number of training steps\n",
    "print(\"time taken:\", time.time() - start_time)"
   ]
  },
  {
   "cell_type": "code",
   "execution_count": 6,
   "metadata": {},
   "outputs": [
    {
     "name": "stdout",
     "output_type": "stream",
     "text": [
      "Acknowledgements This work is based on a knowledge of the moon and its environment. It is not intended to rule it, nor is it intended as a complete and accurate account of the moon's natural advantages or disadvantage. The information in this report should be taken with a grain of salt.\n",
      "\n",
      "Footnotes Contributors: S. K. Choudhry, S. Srinivasa, S. K. Choudhry, P. K. Balud and P. N. Balud (eds). The Changing Sun: The Moral, Strategic and Moral Law). New York: Guilford and Son, 1994.\n",
      "\n",
      "© The Author(s) 2016. Published by Terence Corbijn & Tim Wu. All rights reserved. For Permissions, please email: journals.permissions@gmail.com<|endoftext|>There is much about badminton that is so familiar it is hard not to take it. The worst-played game of all time is one where the players become so enamoured of one another, that they will not even fight each other for the first time. If it seems that you can win with fewer than these, maybe consider creating a double-elimination style that can win with many if not many combinations.<|endoftext|>\n",
      "<|startoftext|>~^~@When a force is hurled from above, it is hurled downwards; when it is hurled from the rear, it is hurled in the opposite direction.~}When you throw an object downwards, it is thrown up. When it is up, it is sideways. It does not have to be a straight line, just a sharp point that lets you know that there is movement. As with weapons, the 'right' way to throw an object is up or down. In this way, a downwards motion can be seen as a sideways one.<|endoftext|>\n",
      "<|startoftext|>~^no-army-general~@He who makes war against the general who has abolished the State will find himself in a position of intermediate weakness. Those who are stronger, will conquer. Those who are weaker will find themselves in a position of superior strength.~}War is won by fighting. If you cannot fight, you cannot win. If you cannot win, you cannot win the war. If you cannot win the war, then the other side can win. In that way, a winning army is one who acme danger all around them and never lets any hope of survival remain. In business, if you lose by fighting then you are gambling out of your own pocket, yet you remain competitive and work hard to win.<|endoftext|>\n",
      "<|startoftext|>~^~@When a force is hurled from above, it is hurled downwards; when it is hurled up, it is sideways. When it is up, it is sideways.~}When you throw an object downwards, it is thrown up. When it is up, it is sideways. It does not have to be a straight line, just a sharp point that lets you know that there is movement. As with weapons, the 'right' way to throw an object is up or down. In this way, a downwards motion can be seen as a sideways one.<|endoftext|>\n",
      "<|startoftext|>~^~@(3) By seeking to avoid situations which open to my adversary's consummate knowledge. This means, being ignorant of the circumstances in which I will be able to prevent the victory of my neighbors.~}Knowing the situation first lets you know when to act and when not to act. Knowing the situation weakens the resolve of the enemy. You have to act first unless you know the enemy beforehand.<|endoftext|>\n",
      "<|startoftext|>~^the-result~@When a force is hurled from above, it is hurled downwards; when it is hurled up, it is sideways. When it is up, it is sideways.~}When you throw an object downwards you put it into motion which causes it to come down. When you throw an object up you make it come down. You create tension. The enemy creates tension. This is the principle of the Uncertainty Principle. When you create tension, you create options. If you can make the enemy believe that they can only win if they create a more favourable situation, they may be more prepared and may be less forced into action. Choose your fights carefully. Make no assumptions. Make no plans. There is value in testing what your options are.<|endoftext|>\n",
      "<|startoftext|>~^~@When a force is hurled from above, it is hurled downwards; when it is hurled up, it is sideways. When it is up, it is sideways.~}When you throw an object downwards you put it into motion which causes it to come down. When you throw an object up you make it come\n"
     ]
    }
   ],
   "source": [
    "gpt2.generate(sess,\n",
    "              run_name='run1_aow')"
   ]
  },
  {
   "cell_type": "code",
   "execution_count": 8,
   "metadata": {},
   "outputs": [
    {
     "data": {
      "text/plain": [
       "\u001b[0;31mSignature:\u001b[0m\n",
       "\u001b[0mgpt2\u001b[0m\u001b[0;34m.\u001b[0m\u001b[0mgenerate\u001b[0m\u001b[0;34m(\u001b[0m\u001b[0;34m\u001b[0m\n",
       "\u001b[0;34m\u001b[0m    \u001b[0msess\u001b[0m\u001b[0;34m,\u001b[0m\u001b[0;34m\u001b[0m\n",
       "\u001b[0;34m\u001b[0m    \u001b[0mrun_name\u001b[0m\u001b[0;34m=\u001b[0m\u001b[0;34m'run1'\u001b[0m\u001b[0;34m,\u001b[0m\u001b[0;34m\u001b[0m\n",
       "\u001b[0;34m\u001b[0m    \u001b[0mcheckpoint_dir\u001b[0m\u001b[0;34m=\u001b[0m\u001b[0;34m'checkpoint'\u001b[0m\u001b[0;34m,\u001b[0m\u001b[0;34m\u001b[0m\n",
       "\u001b[0;34m\u001b[0m    \u001b[0mmodel_name\u001b[0m\u001b[0;34m=\u001b[0m\u001b[0;32mNone\u001b[0m\u001b[0;34m,\u001b[0m\u001b[0;34m\u001b[0m\n",
       "\u001b[0;34m\u001b[0m    \u001b[0mmodel_dir\u001b[0m\u001b[0;34m=\u001b[0m\u001b[0;34m'models'\u001b[0m\u001b[0;34m,\u001b[0m\u001b[0;34m\u001b[0m\n",
       "\u001b[0;34m\u001b[0m    \u001b[0msample_dir\u001b[0m\u001b[0;34m=\u001b[0m\u001b[0;34m'samples'\u001b[0m\u001b[0;34m,\u001b[0m\u001b[0;34m\u001b[0m\n",
       "\u001b[0;34m\u001b[0m    \u001b[0mreturn_as_list\u001b[0m\u001b[0;34m=\u001b[0m\u001b[0;32mFalse\u001b[0m\u001b[0;34m,\u001b[0m\u001b[0;34m\u001b[0m\n",
       "\u001b[0;34m\u001b[0m    \u001b[0mtruncate\u001b[0m\u001b[0;34m=\u001b[0m\u001b[0;32mNone\u001b[0m\u001b[0;34m,\u001b[0m\u001b[0;34m\u001b[0m\n",
       "\u001b[0;34m\u001b[0m    \u001b[0mdestination_path\u001b[0m\u001b[0;34m=\u001b[0m\u001b[0;32mNone\u001b[0m\u001b[0;34m,\u001b[0m\u001b[0;34m\u001b[0m\n",
       "\u001b[0;34m\u001b[0m    \u001b[0msample_delim\u001b[0m\u001b[0;34m=\u001b[0m\u001b[0;34m'====================\\n'\u001b[0m\u001b[0;34m,\u001b[0m\u001b[0;34m\u001b[0m\n",
       "\u001b[0;34m\u001b[0m    \u001b[0mprefix\u001b[0m\u001b[0;34m=\u001b[0m\u001b[0;32mNone\u001b[0m\u001b[0;34m,\u001b[0m\u001b[0;34m\u001b[0m\n",
       "\u001b[0;34m\u001b[0m    \u001b[0mseed\u001b[0m\u001b[0;34m=\u001b[0m\u001b[0;32mNone\u001b[0m\u001b[0;34m,\u001b[0m\u001b[0;34m\u001b[0m\n",
       "\u001b[0;34m\u001b[0m    \u001b[0mnsamples\u001b[0m\u001b[0;34m=\u001b[0m\u001b[0;36m1\u001b[0m\u001b[0;34m,\u001b[0m\u001b[0;34m\u001b[0m\n",
       "\u001b[0;34m\u001b[0m    \u001b[0mbatch_size\u001b[0m\u001b[0;34m=\u001b[0m\u001b[0;36m1\u001b[0m\u001b[0;34m,\u001b[0m\u001b[0;34m\u001b[0m\n",
       "\u001b[0;34m\u001b[0m    \u001b[0mlength\u001b[0m\u001b[0;34m=\u001b[0m\u001b[0;36m1023\u001b[0m\u001b[0;34m,\u001b[0m\u001b[0;34m\u001b[0m\n",
       "\u001b[0;34m\u001b[0m    \u001b[0mtemperature\u001b[0m\u001b[0;34m=\u001b[0m\u001b[0;36m0.7\u001b[0m\u001b[0;34m,\u001b[0m\u001b[0;34m\u001b[0m\n",
       "\u001b[0;34m\u001b[0m    \u001b[0mtop_k\u001b[0m\u001b[0;34m=\u001b[0m\u001b[0;36m0\u001b[0m\u001b[0;34m,\u001b[0m\u001b[0;34m\u001b[0m\n",
       "\u001b[0;34m\u001b[0m    \u001b[0mtop_p\u001b[0m\u001b[0;34m=\u001b[0m\u001b[0;36m0.0\u001b[0m\u001b[0;34m,\u001b[0m\u001b[0;34m\u001b[0m\n",
       "\u001b[0;34m\u001b[0m    \u001b[0minclude_prefix\u001b[0m\u001b[0;34m=\u001b[0m\u001b[0;32mTrue\u001b[0m\u001b[0;34m,\u001b[0m\u001b[0;34m\u001b[0m\n",
       "\u001b[0;34m\u001b[0m\u001b[0;34m)\u001b[0m\u001b[0;34m\u001b[0m\u001b[0;34m\u001b[0m\u001b[0m\n",
       "\u001b[0;31mDocstring:\u001b[0m\n",
       "Generates text from a model loaded into memory.\n",
       "\n",
       "Adapted from https://github.com/openai/gpt-2/blob/master/src/interactive_conditional_samples.py\n",
       "\u001b[0;31mFile:\u001b[0m      ~/anaconda3/envs/tensorflow_p37/lib/python3.7/site-packages/gpt_2_simple/gpt_2.py\n",
       "\u001b[0;31mType:\u001b[0m      function\n"
      ]
     },
     "metadata": {},
     "output_type": "display_data"
    }
   ],
   "source": [
    "gpt2.generate?"
   ]
  },
  {
   "cell_type": "code",
   "execution_count": 7,
   "metadata": {},
   "outputs": [
    {
     "name": "stdout",
     "output_type": "stream",
     "text": [
      "Device mapping:\n",
      "/job:localhost/replica:0/task:0/device:XLA_CPU:0 -> device: XLA_CPU device\n",
      "/job:localhost/replica:0/task:0/device:GPU:0 -> device: 0, name: Tesla K80, pci bus id: 0000:00:1e.0, compute capability: 3.7\n",
      "/job:localhost/replica:0/task:0/device:XLA_GPU:0 -> device: XLA_GPU device\n",
      "\n",
      "[<module 'tensorflow' from '/home/ubuntu/anaconda3/envs/tensorflow_p37/lib/python3.7/site-packages/tensorflow/__init__.py'>, <tensorflow.python.client.session.Session object at 0x7f82cc609c50>, [name: \"/device:CPU:0\"\n",
      "device_type: \"CPU\"\n",
      "memory_limit: 268435456\n",
      "locality {\n",
      "}\n",
      "incarnation: 1804147031087798075\n",
      ", name: \"/device:XLA_CPU:0\"\n",
      "device_type: \"XLA_CPU\"\n",
      "memory_limit: 17179869184\n",
      "locality {\n",
      "}\n",
      "incarnation: 6934558112393938769\n",
      "physical_device_desc: \"device: XLA_CPU device\"\n",
      ", name: \"/device:GPU:0\"\n",
      "device_type: \"GPU\"\n",
      "memory_limit: 11330115994\n",
      "locality {\n",
      "  bus_id: 1\n",
      "  links {\n",
      "  }\n",
      "}\n",
      "incarnation: 10559880800339402231\n",
      "physical_device_desc: \"device: 0, name: Tesla K80, pci bus id: 0000:00:1e.0, compute capability: 3.7\"\n",
      ", name: \"/device:XLA_GPU:0\"\n",
      "device_type: \"XLA_GPU\"\n",
      "memory_limit: 17179869184\n",
      "locality {\n",
      "}\n",
      "incarnation: 16796222142296874104\n",
      "physical_device_desc: \"device: XLA_GPU device\"\n",
      "], ['__annotations__', '__call__', '__class__', '__closure__', '__code__', '__defaults__', '__delattr__', '__dict__', '__dir__', '__doc__', '__eq__', '__format__', '__ge__', '__get__', '__getattribute__', '__globals__', '__gt__', '__hash__', '__init__', '__init_subclass__', '__kwdefaults__', '__le__', '__lt__', '__module__', '__name__', '__ne__', '__new__', '__qualname__', '__reduce__', '__reduce_ex__', '__repr__', '__setattr__', '__sizeof__', '__str__', '__subclasshook__'], ['__annotations__', '__call__', '__class__', '__closure__', '__code__', '__defaults__', '__delattr__', '__dict__', '__dir__', '__doc__', '__eq__', '__format__', '__ge__', '__get__', '__getattribute__', '__globals__', '__gt__', '__hash__', '__init__', '__init_subclass__', '__kwdefaults__', '__le__', '__lt__', '__module__', '__name__', '__ne__', '__new__', '__qualname__', '__reduce__', '__reduce_ex__', '__repr__', '__setattr__', '__sizeof__', '__str__', '__subclasshook__', '_tf_api_names', '_tf_api_names_v1']]\n"
     ]
    }
   ],
   "source": [
    "import tensorflow as tf\n",
    "print(\n",
    "    [\n",
    "        tf,\n",
    "        tf.Session(config=tf.ConfigProto(log_device_placement=True)),\n",
    "        #gpt2.tf.device(),\n",
    "        gpt2.device_lib.list_local_devices(),\n",
    "        dir(gpt2.device_lib.list_local_devices),\n",
    "        dir(gpt2.tf.device)\n",
    "    ]\n",
    ")\n"
   ]
  },
  {
   "cell_type": "code",
   "execution_count": null,
   "metadata": {},
   "outputs": [],
   "source": []
  }
 ],
 "metadata": {
  "kernelspec": {
   "display_name": "Environment (conda_tensorflow_p37)",
   "language": "python",
   "name": "conda_tensorflow_p37"
  },
  "language_info": {
   "codemirror_mode": {
    "name": "ipython",
    "version": 3
   },
   "file_extension": ".py",
   "mimetype": "text/x-python",
   "name": "python",
   "nbconvert_exporter": "python",
   "pygments_lexer": "ipython3",
   "version": "3.7.4"
  }
 },
 "nbformat": 4,
 "nbformat_minor": 2
}
