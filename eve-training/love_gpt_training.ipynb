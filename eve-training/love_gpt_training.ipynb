{
 "cells": [
  {
   "cell_type": "code",
   "execution_count": 1,
   "metadata": {},
   "outputs": [
    {
     "name": "stdout",
     "output_type": "stream",
     "text": [
      "WARNING:tensorflow:\n",
      "The TensorFlow contrib module will not be included in TensorFlow 2.0.\n",
      "For more information, please see:\n",
      "  * https://github.com/tensorflow/community/blob/master/rfcs/20180907-contrib-sunset.md\n",
      "  * https://github.com/tensorflow/addons\n",
      "  * https://github.com/tensorflow/io (for I/O related ops)\n",
      "If you depend on functionality not listed there, please file an issue.\n",
      "\n"
     ]
    }
   ],
   "source": [
    "import gpt_2_simple as gpt2\n",
    "import os\n",
    "import requests\n",
    "import tensorflow as tf\n",
    "\n",
    "model_name = \"124M\"\n",
    "if not os.path.isdir(os.path.join(\"models\", model_name)):\n",
    "    print(f\"Downloading {model_name} model...\")\n",
    "    gpt2.download_gpt2(model_name=model_name)   # model is saved into current directory under /models/124M/"
   ]
  },
  {
   "cell_type": "markdown",
   "metadata": {},
   "source": [
    "## This cell should work!"
   ]
  },
  {
   "cell_type": "code",
   "execution_count": 2,
   "metadata": {},
   "outputs": [
    {
     "name": "stdout",
     "output_type": "stream",
     "text": [
      "[[22. 28.]\n",
      " [49. 64.]]\n"
     ]
    }
   ],
   "source": [
    "import tensorflow as tf\n",
    "with tf.device('/gpu:0'):\n",
    "    a = tf.constant([1.0, 2.0, 3.0, 4.0, 5.0, 6.0], shape=[2, 3], name='a')\n",
    "    b = tf.constant([1.0, 2.0, 3.0, 4.0, 5.0, 6.0], shape=[3, 2], name='b')\n",
    "    c = tf.matmul(a, b)\n",
    "\n",
    "with tf.Session() as test_sess:\n",
    "    print (test_sess.run(c))"
   ]
  },
  {
   "cell_type": "code",
   "execution_count": 3,
   "metadata": {},
   "outputs": [
    {
     "data": {
      "text/plain": [
       "\u001b[0;31mSignature:\u001b[0m\n",
       "\u001b[0mgpt2\u001b[0m\u001b[0;34m.\u001b[0m\u001b[0mfinetune\u001b[0m\u001b[0;34m(\u001b[0m\u001b[0;34m\u001b[0m\n",
       "\u001b[0;34m\u001b[0m    \u001b[0msess\u001b[0m\u001b[0;34m,\u001b[0m\u001b[0;34m\u001b[0m\n",
       "\u001b[0;34m\u001b[0m    \u001b[0mdataset\u001b[0m\u001b[0;34m,\u001b[0m\u001b[0;34m\u001b[0m\n",
       "\u001b[0;34m\u001b[0m    \u001b[0msteps\u001b[0m\u001b[0;34m=\u001b[0m\u001b[0;34m-\u001b[0m\u001b[0;36m1\u001b[0m\u001b[0;34m,\u001b[0m\u001b[0;34m\u001b[0m\n",
       "\u001b[0;34m\u001b[0m    \u001b[0mmodel_name\u001b[0m\u001b[0;34m=\u001b[0m\u001b[0;34m'124M'\u001b[0m\u001b[0;34m,\u001b[0m\u001b[0;34m\u001b[0m\n",
       "\u001b[0;34m\u001b[0m    \u001b[0mmodel_dir\u001b[0m\u001b[0;34m=\u001b[0m\u001b[0;34m'models'\u001b[0m\u001b[0;34m,\u001b[0m\u001b[0;34m\u001b[0m\n",
       "\u001b[0;34m\u001b[0m    \u001b[0mcombine\u001b[0m\u001b[0;34m=\u001b[0m\u001b[0;36m50000\u001b[0m\u001b[0;34m,\u001b[0m\u001b[0;34m\u001b[0m\n",
       "\u001b[0;34m\u001b[0m    \u001b[0mbatch_size\u001b[0m\u001b[0;34m=\u001b[0m\u001b[0;36m1\u001b[0m\u001b[0;34m,\u001b[0m\u001b[0;34m\u001b[0m\n",
       "\u001b[0;34m\u001b[0m    \u001b[0mlearning_rate\u001b[0m\u001b[0;34m=\u001b[0m\u001b[0;36m0.0001\u001b[0m\u001b[0;34m,\u001b[0m\u001b[0;34m\u001b[0m\n",
       "\u001b[0;34m\u001b[0m    \u001b[0maccumulate_gradients\u001b[0m\u001b[0;34m=\u001b[0m\u001b[0;36m5\u001b[0m\u001b[0;34m,\u001b[0m\u001b[0;34m\u001b[0m\n",
       "\u001b[0;34m\u001b[0m    \u001b[0mrestore_from\u001b[0m\u001b[0;34m=\u001b[0m\u001b[0;34m'latest'\u001b[0m\u001b[0;34m,\u001b[0m\u001b[0;34m\u001b[0m\n",
       "\u001b[0;34m\u001b[0m    \u001b[0mrun_name\u001b[0m\u001b[0;34m=\u001b[0m\u001b[0;34m'run1'\u001b[0m\u001b[0;34m,\u001b[0m\u001b[0;34m\u001b[0m\n",
       "\u001b[0;34m\u001b[0m    \u001b[0mcheckpoint_dir\u001b[0m\u001b[0;34m=\u001b[0m\u001b[0;34m'checkpoint'\u001b[0m\u001b[0;34m,\u001b[0m\u001b[0;34m\u001b[0m\n",
       "\u001b[0;34m\u001b[0m    \u001b[0msample_every\u001b[0m\u001b[0;34m=\u001b[0m\u001b[0;36m100\u001b[0m\u001b[0;34m,\u001b[0m\u001b[0;34m\u001b[0m\n",
       "\u001b[0;34m\u001b[0m    \u001b[0msample_length\u001b[0m\u001b[0;34m=\u001b[0m\u001b[0;36m1023\u001b[0m\u001b[0;34m,\u001b[0m\u001b[0;34m\u001b[0m\n",
       "\u001b[0;34m\u001b[0m    \u001b[0msample_num\u001b[0m\u001b[0;34m=\u001b[0m\u001b[0;36m1\u001b[0m\u001b[0;34m,\u001b[0m\u001b[0;34m\u001b[0m\n",
       "\u001b[0;34m\u001b[0m    \u001b[0mmulti_gpu\u001b[0m\u001b[0;34m=\u001b[0m\u001b[0;32mFalse\u001b[0m\u001b[0;34m,\u001b[0m\u001b[0;34m\u001b[0m\n",
       "\u001b[0;34m\u001b[0m    \u001b[0msave_every\u001b[0m\u001b[0;34m=\u001b[0m\u001b[0;36m1000\u001b[0m\u001b[0;34m,\u001b[0m\u001b[0;34m\u001b[0m\n",
       "\u001b[0;34m\u001b[0m    \u001b[0mprint_every\u001b[0m\u001b[0;34m=\u001b[0m\u001b[0;36m1\u001b[0m\u001b[0;34m,\u001b[0m\u001b[0;34m\u001b[0m\n",
       "\u001b[0;34m\u001b[0m    \u001b[0mmax_checkpoints\u001b[0m\u001b[0;34m=\u001b[0m\u001b[0;36m1\u001b[0m\u001b[0;34m,\u001b[0m\u001b[0;34m\u001b[0m\n",
       "\u001b[0;34m\u001b[0m    \u001b[0muse_memory_saving_gradients\u001b[0m\u001b[0;34m=\u001b[0m\u001b[0;32mFalse\u001b[0m\u001b[0;34m,\u001b[0m\u001b[0;34m\u001b[0m\n",
       "\u001b[0;34m\u001b[0m    \u001b[0monly_train_transformer_layers\u001b[0m\u001b[0;34m=\u001b[0m\u001b[0;32mFalse\u001b[0m\u001b[0;34m,\u001b[0m\u001b[0;34m\u001b[0m\n",
       "\u001b[0;34m\u001b[0m    \u001b[0moptimizer\u001b[0m\u001b[0;34m=\u001b[0m\u001b[0;34m'adam'\u001b[0m\u001b[0;34m,\u001b[0m\u001b[0;34m\u001b[0m\n",
       "\u001b[0;34m\u001b[0m    \u001b[0moverwrite\u001b[0m\u001b[0;34m=\u001b[0m\u001b[0;32mFalse\u001b[0m\u001b[0;34m,\u001b[0m\u001b[0;34m\u001b[0m\n",
       "\u001b[0;34m\u001b[0m\u001b[0;34m)\u001b[0m\u001b[0;34m\u001b[0m\u001b[0;34m\u001b[0m\u001b[0m\n",
       "\u001b[0;31mDocstring:\u001b[0m\n",
       "Finetunes the model on the given dataset.\n",
       "\n",
       "Adapted from https://github.com/nshepperd/gpt-2/blob/finetuning/train.py.\n",
       "See that file for parameter definitions.\n",
       "\u001b[0;31mFile:\u001b[0m      ~/anaconda3/envs/tensorflow_p37/lib/python3.7/site-packages/gpt_2_simple/gpt_2.py\n",
       "\u001b[0;31mType:\u001b[0m      function\n"
      ]
     },
     "metadata": {},
     "output_type": "display_data"
    }
   ],
   "source": [
    "gpt2.finetune?"
   ]
  },
  {
   "cell_type": "code",
   "execution_count": 4,
   "metadata": {},
   "outputs": [],
   "source": [
    "tf.reset_default_graph()\n",
    "\n",
    "sess = gpt2.start_tf_sess()"
   ]
  },
  {
   "cell_type": "code",
   "execution_count": 4,
   "metadata": {},
   "outputs": [
    {
     "name": "stdout",
     "output_type": "stream",
     "text": [
      "WARNING:tensorflow:From /home/ubuntu/anaconda3/envs/tensorflow_p37/lib/python3.7/site-packages/gpt_2_simple/src/sample.py:17: where (from tensorflow.python.ops.array_ops) is deprecated and will be removed in a future version.\n",
      "Instructions for updating:\n",
      "Use tf.where in 2.0, which has the same broadcast rule as np.where\n",
      "Loading checkpoint models/124M/model.ckpt\n",
      "INFO:tensorflow:Restoring parameters from models/124M/model.ckpt\n"
     ]
    },
    {
     "name": "stderr",
     "output_type": "stream",
     "text": [
      "  0%|          | 0/1 [00:00<?, ?it/s]"
     ]
    },
    {
     "name": "stdout",
     "output_type": "stream",
     "text": [
      "Loading dataset...\n"
     ]
    },
    {
     "name": "stderr",
     "output_type": "stream",
     "text": [
      "100%|██████████| 1/1 [00:01<00:00,  1.01s/it]\n"
     ]
    },
    {
     "name": "stdout",
     "output_type": "stream",
     "text": [
      "dataset has 144954 tokens\n",
      "Training...\n",
      "[10 | 54.45] loss=2.45 avg=2.45\n",
      "Saving checkpoint/run1_aow/model-10\n",
      "[20 | 101.08] loss=2.07 avg=2.26\n",
      "Saving checkpoint/run1_aow/model-20\n",
      "======== SAMPLE 1 ========\n",
      " It and the final part were much more like a fight, in which the enemy would be unable to defend himself. The enemy would try to kill you first before attempting to kill him. Even then they would still be outnumbered. This is part of what makes fighting dangerous.\n",
      "It is possible you can be exposed by surprise for your own good. Many natural disasters bring out the strongest defenses. If you face this, you might simply have to fight. The enemy may be able to defeat you with a smaller force. There is much in life such as this. There may be better ways of fighting. There are many ways of fighting, including fighting against the common enemy, the weak or the desperate. Of course, you may even need to attack your allies or yourself. When fighting is easy, the whole battle is worth it. When it is hard, there are many possibilities for victory. The only way of victory here is through cunning. If you do not have cunning, it will also be far better if you do not fight. When you are fighting this way, fighting is always worth it. You will have gained many advantages in this fighting, and you will also be able to defeat this enemy with ease. The best way to win is to use strategic advantage. The stronger it is, the better it is. You may well win here by employing defensive advantage (especially against weaker defenders). This will see you outclassed by your weaker defenders in all battles and on all battlefields. Winning here will also prevent your allies from supporting you when they know you may not be quite as lucky. A better strategy here is to be aggressive but not take the initiative. The more the better. 'Happiness' here is not necessarily about winning, rather it is about winning the war which is winning. Success here is being accepted and appreciated. Good war stories tell an exciting story that shows the true strengths and weaknesses of the opposing force. It is important to have a certain sense of humour, and you can tell by the way people react when they hear 'Happiness' and then get angry about it. 'Happiness' and war also reveal that war is not just about winning; it is about defeating the enemy. If you are not fighting, then you might be able to use your cunning to take advantage. This, in turn, does not guarantee victory unless you are right. If you are right, then maybe victory is just as easy as losing; if you can win it it requires far more hard to lose. War is an intense affair with many rules, including the rule of skill, precision, numbers and many others. The rules, in all, are not easy to understand. There are many ways to fight. There are many ways to fight, including fighting against the common enemy, the weak or the desperate. Of course, you may also need to attack your allies or yourself. When fighting is easy, the whole battle is worth it. When it is hard, there are many possibilities for victory. The only way of victory here is through cunning. If you do not have cunning, it will also be far better if you do not go the extra mile into hard terrain. When this is hard, you may also be vulnerable. Knowing who is next can also make you much more successful. In business, being a leader gives you a huge opportunity to grow and is a good way of training the next person. It also gives you the tools and the resources needed to gain the most out of your workforce. People who are good people get to be CEO. Those who are not can always be fired. Businesses also have many rewards and many people who are well loved. It is up to business owners to care about the well being of employees, so business people are also likely to care about what a CEO does or does not do. It is important to also care about the lives of others. Whilst a CEO is always good, people who make bad decisions can make good decisions. The same is true of employees, so the same can happen with directors, business managers and so on. A business leader is often seen by everyone else that the CEO is good and good for the business. This is called 'the double standard'. You may, for example be fired, have your pay cut whilst others are better able to take on increased responsibilities. This creates the effect of you not being 'good enough'. The reality is people want to be in charge and the CEO is often 'one of the many people who does business'. This is how it is perceived; as many believe it is possible to be better than your competitors. This may not mean it is a good idea to just be the best, but it does mean a different approach is needed. Businesses should always consider what can be done in different ways. Whilst this may not be the right way for a business, it should be done in a way that maximise efficiency. What the customer chooses is up to you, not the CEO. This also means that they should have seen the best way to deliver that product then. When this is\n",
      "\n",
      "[30 | 166.19] loss=1.98 avg=2.16\n",
      "Saving checkpoint/run1_aow/model-30\n",
      "WARNING:tensorflow:From /home/ubuntu/anaconda3/envs/tensorflow_p37/lib/python3.7/site-packages/tensorflow_core/python/training/saver.py:963: remove_checkpoint (from tensorflow.python.training.checkpoint_management) is deprecated and will be removed in a future version.\n",
      "Instructions for updating:\n",
      "Use standard file APIs to delete files with this prefix.\n",
      "[40 | 212.49] loss=1.67 avg=2.04\n",
      "Saving checkpoint/run1_aow/model-40\n",
      "======== SAMPLE 1 ========\n",
      " our fight. He will not defeat himself or his soldiers; he will only fight his own cause. --Albert Einstein\n",
      "<|startoftext|>~^~@We should beware, lest in our fighting ways come defeat we may be doomed.~}There is always the possibility of defeat and there is always risk in taking risks. The same is true for humans. Whilst you may gain or lose the war by taking risks in battle, this also does not equal victory. There is still time for both sides to do the right thing and so stay on top of important developments. The same is true for ourselves and for each other. It is good to know you are much stronger when you are much weaker.<|endoftext|>\n",
      "<|startoftext|>~^two-men~@In our fighting ways, there is no doubt that in defeating ourselves, one will meet an enemy who is more powerful than ourselves; yet neither will the other face our enemy more unfavourably.~}In general, war is won or lost by two or more men. In business, both are competitors with no certainty of success; neither is a simple matter of taking different paths.<|endoftext|>\n",
      "<|startoftext|>~^one-man~@If, on the one hand, it is possible to defeat an army of equal strength, such a victory will be obtained, but if at other times it will be impossible, then it will be impossible; if it is easy to defeat an army of equal strength, its defeat will be much more difficult.~}Experience shows that war is won and lost by two or more people. A victory gained is likely to cause people to give in to temptation and give in to defeat, just as when a successful leader creates a new culture with new ways of thinking. Winning also appears to come from the heart--the feeling of being well-disciplined and well-travelled. The same is true for motivation.<|endoftext|>\n",
      "<|startoftext|>~^his-methods must be strict~@There is no doubt that in defeating ourselves, one will meet an enemy who is more powerful than ourselves; yet neither will the other face our enemy more unfavourably.~}In general, war is won or lost by two or more people. In business, both are competitors with no certainty of success; neither is a simple matter of taking different paths.<|endoftext|>\n",
      "<|startoftext|>~^persuasive a~@On the one hand a man who will fight is impassible; on the other, he has lost all confidence.~}When an army is exhausted or has lost all trust within itself, it is tempting to resort to disorder. In both cases, though, it is better to face defeat with the same resolve as if you were fighting. This is why one should set high goals, such as defeating an overwhelming enemy, than to seek defeat where none remains.<|endoftext|>\n",
      "<|startoftext|>~^delay ground~@When we have taken certain measures, we are not able to keep the enemy at a distance.~}There is no certainty of victory on the ground, but when one takes the initiative there it is obvious what is at hand. When a force is isolated, it is easy to see where it will be strongest or weakest. At the same time, the more isolated troops are they more likely to concentrate their strength elsewhere. The same is true for ground where it is difficult to sustain troops on short term footing.<|endoftext|>\n",
      "<|startoftext|>~^men~@If, on the one hand, it is possible to defeat an army of equal strength, such a victory will be obtained, but if at other times it will be impossible, then it will be impossible; if it is easy to defeat an army of equal strength, its defeat will be much more difficult.~}Experience shows that war is won and lost by two or more people. A victory gained is likely to cause people to give in to temptation and give in to defeat, just as when a successful leader creates a new culture with new ways of thinking. Winning also appears to come from the heart--the feeling of being well-disciplined and well-travelled. The same is true for motivation.<|endoftext|>\n",
      "<|startoftext|>~^~@On the one hand a man who will fight is impassible; on the other, he has lost all confidence.~}When an army is exhausted or has lost all trust within itself, it is tempting to resort to disorder. In both cases though, though, it is better to face defeat with the same resolve as if you were fighting. This is why one should set high goals, such as defeating an overwhelming enemy, than to seek defeat where none remains.<|endoftext|>\n",
      "<\n",
      "\n",
      "[50 | 275.71] loss=1.75 avg=1.98\n",
      "Saving checkpoint/run1_aow/model-50\n",
      "[60 | 322.07] loss=1.49 avg=1.90\n",
      "Saving checkpoint/run1_aow/model-60\n",
      "======== SAMPLE 1 ========\n",
      " top|class|level|~^~@This is the art of dividing the army into four main parts, and the four corners arising from this.~}At the top are the chariots, mail-order divisions and a brigade of regiments. In the middle are the field-plans and plans. Finally, below is a hierarchy which should be familiar: the chariot can be seen here as the art of stratagem; the chariot march is the art of marching; the chariot attack is the art of attacking. Likewise at these four levels there is stratagem; the battle is about fighting.~}The art of war is very different from that of business. It is about creating a high-tech dynamic in an unpredictable time where competitors may find ways to surprise you. It must be remembered that strategy and tactics vary across businesses. It is also important to know the important principle of variation in business to compare. In this way you can develop different strategies that compare against your competitive best. This method is especially useful for businesses that require rapid innovation. The same principle applies to business strategy. This is what drives the best managers and strategists to keep constantly thinking and responding. Build in depth knowledge and practice it to your own advantage. This is the art of dividing the army into four main parts, and the four corners arising from this. At the top are the chariots, mail-order divisions and a brigade of regiments. In the middle are the field-plans and plans. Finally, below is a hierarchy which should be familiar: the chariot can be seen here as the art of stratagem; the chariot march is the art of attacking. Likewise at these four levels is stratagem; the battle is about fighting. Likewise at these four levels is stratagem...~}There are in-game strategies out there that help you out. Those include:--\n",
      "Dynamics.com: There are many variables in the game and each one impacts on your strategy, tactics and execution. This is where we get into the game analysis and decision making. In this spirit, let's look at some of the more relevant strategies that you can use. You can get away with using more of the same or different strategies. You can win by just using less of the same and less the same way.<|endoftext|>\n",
      "<|startoftext|>~^~@On the one hand, the best commander is one with foresight; the best general is one who makes the right decisions.~}It is in the best commander's eyes that he has the best chance to win, and then it is in the worst commander's eyes where he has a serious cost. In business, in particular, managers of competitors will not look kindly on you for making mistakes. Timing is everything, and mistakes happen quickly. So even if you make them, they will continue even into the final day.<|endoftext|>\n",
      "<|startoftext|>~^~@On the one hand, the best commander is one with foresight; the best general is one who makes the right decisions.~}It is in the best commander's eyes that he has the best chance to win, and then it is in the worst commander's eyes where he has a serious cost. In business, in particular, managers of competitors will not look kindly on you for making mistakes. Timing is everything, and mistakes happen quickly. So even if you make them, they will continue even into the final day.<|endoftext|>\n",
      "<|startoftext|>~^discipline~@In the army it is necessary to keep the discipline of the ruler high. Discipline is the highest goal; the high point of the army is its readiness. The rule of law is derived from the law of the land; the high ground of cities is its encampment and fortified position.~}The army needs discipline; the command is derived from wisdom. Leadership is derived from courage. Leadership is derived from the wisdom of the general. Leadership is derived from the supreme leader.~}War is won and lost by hard discipline. High ground is dangerous. There is also high ground in hostile territory. It is often better to keep high ground simply because it provides cover from the enemy and so reduces the risk of fighting in the high ground.<|endoftext|>\n",
      "<|startoftext|>~^the-army its-presence the-ground spirit-fund~@Sun Tzu said: Unity is the principle of being able to live in harmony with the world without ceasing. It is easy to become in war, easy to become in life.~}Understand unity and how to form relationships that make sense in different situations. Also understand the roles of men and women. Do not confuse unity with skill. Unity is about the ability to be united. Leadership is about acting as though you are in charge. This should be your first mission as a\n",
      "\n",
      "[70 | 385.78] loss=1.33 avg=1.81\n",
      "Saving checkpoint/run1_aow/model-70\n",
      "[80 | 432.55] loss=1.18 avg=1.73\n",
      "Saving checkpoint/run1_aow/model-80\n",
      "======== SAMPLE 1 ========\n",
      " brings it into the possession of the enemy, and then sweeps them out on his unsuspecting enemy.<|endoftext|>\n",
      "<|startoftext|>~^~@(4) By dividing men into equal number, through novices to the senior officers; henceforth he is the general.~}When you must fight, you should always have the superior numbers. When there are too few, you should concentrate. When there are too many, you should send in the strongest forces. This is what you will do in business, where there are always so many to choose from. The principle is the same for all businesses: to have more people than is necessary to keep costs down. This is the spirit behind the seven key principles of competitive strategy.<|endoftext|>\n",
      "<|startoftext|>~^~@(3) On the front line, lie far ahead of the enemy. On the back line, lie even further ahead.~}If you are far ahead in any given area, then the enemy will still be far behind you. In this way, you can hold off an attack with shorter distances. In business, you should consider both front and back ground before deciding whether to attack or away.<|endoftext|>\n",
      "<|startoftext|>~^the-ground~@Therefore there is nothing in warfare more essential than to fight on the ground, subject to the knowledge that no one else will stand an equal fight.~}Ground has special importance in that it is both home and across which you can travel. War is one of these, so it is important that you can learn from them. At the same time, there is also a business value in sharing knowledge. Build and sustain relationships with your customers and suppliers who will spread the knowledge across all levels of the company.<|endoftext|>\n",
      "<|startoftext|>~^the-enemy a-wisdom of-warrior~@Now a wise man will give orders to his attendants--his aides-de-camp--on his authority and without discrimination, and not only obey, but also avoid all incivility and sloth. Then he will be content and amenable to the will of his superiors and not slanderer nor easily provoked.~}Proper command is important, but underwinnable, particularly where there is peril in hand. If your orders are not to the best of their ability, then they should be to the best of their ability. When you must command, do so in a spirit of shared purpose and concern for your own officers and employees. In wartime there may be good reason for doing this, for example where the enemy is being overtaken by superior forces. In such situations you may make use of a variety of indirectives. When you say 'indirectives', do not mean 'using your mind'. You must have them.<|endoftext|>\n",
      "<|startoftext|>~^the-enemy~@Therefore there is nothing in warfare more essential than to fight on the ground, subject to the knowledge that no one else will stand an equal fight.~}Ground has special importance in that it is both home and across which you can travel. War is one of these, so it is important that you can learn from them. At the same time, there is also a business value in sharing knowledge. Build and sustain relationships with your customers and suppliers who will spread the knowledge across all levels of the company.<|endoftext|>\n",
      "<|startoftext|>~^~@(3) On the front line, lie far ahead of the enemy. On the back line, lie even further ahead.~}If you are far ahead in any given area, then the enemy will still be far behind you. In this way, you can hold off an attack with shorter distances. In business, you should consider both front and back ground before deciding whether to attack or away.<|endoftext|>\n",
      "<|startoftext|>~^~@(3) On the front line, lie far ahead of the enemy. On the back line, lie even further ahead.~}If you are far ahead in any given area, then the enemy will still be far behind you. In this way, you can hold off an attack with shorter distances. In business, you should consider both front and back ground before deciding whether to attack or away.<|endoftext|>\n",
      "<|startoftext|>~^~@If at all possible, prepare in advance; to meet the mainforce should be advisable.~}On one hand, it is good to be prepared, but in the long run you should be able to defeat the mainforce first. On the other hand, you cannot let this be known, so prepare accordingly. This is why preparations are important, not just in the first battle but also in the later one.<|endoftext|>\n",
      "<|\n",
      "\n",
      "[90 | 497.31] loss=1.19 avg=1.67\n",
      "Saving checkpoint/run1_aow/model-90\n",
      "[100 | 544.05] loss=1.06 avg=1.60\n",
      "Saving checkpoint/run1_aow/model-100\n"
     ]
    }
   ],
   "source": [
    "gpt2.finetune(sess,\n",
    "              'data/aow_csv_encoded.txt',\n",
    "              model_name=model_name,\n",
    "              restore_from='latest',\n",
    "              run_name='run1_aow',\n",
    "              print_every=10,\n",
    "              sample_every=20,\n",
    "              save_every=10,\n",
    "              max_checkpoints=2,\n",
    "              steps=100)   # steps is max number of training steps"
   ]
  },
  {
   "cell_type": "code",
   "execution_count": 4,
   "metadata": {},
   "outputs": [
    {
     "name": "stdout",
     "output_type": "stream",
     "text": [
      "Loading checkpoint checkpoint/run1/model-100\n",
      "INFO:tensorflow:Restoring parameters from checkpoint/run1/model-100\n"
     ]
    },
    {
     "name": "stderr",
     "output_type": "stream",
     "text": [
      "  0%|          | 0/1 [00:00<?, ?it/s]"
     ]
    },
    {
     "name": "stdout",
     "output_type": "stream",
     "text": [
      "Loading dataset...\n"
     ]
    },
    {
     "name": "stderr",
     "output_type": "stream",
     "text": [
      "100%|██████████| 1/1 [00:01<00:00,  1.11s/it]\n"
     ]
    },
    {
     "name": "stdout",
     "output_type": "stream",
     "text": [
      "dataset has 144954 tokens\n",
      "Training...\n",
      "Saving checkpoint/run1/model-100\n",
      "======== SAMPLE 1 ========\n",
      " thing, it has to do with the need and nature of the enemy. In business it is sometimes described as being 'hands on'. The people they lead are made up of people who are made up of people.<|endoftext|>\n",
      "<|startoftext|>~^~@(1) At once and without a delay, make preparations for the coming battle. Our soldiers are sent out to fight, not to battle. Yet, there is danger in preparing for a pitched battle.~}You should be ready to go into the enemy's camp when they come and be there when they come. It takes a skill at anticipating the enemy that well spent. The next day, you go to defend the front line, but you are cut off at the front and cannot return until you have secured the other side. Likewise, the next day, you are cut off at the front at which you can return only later than feared. Such is the readiness of the enemy.~}The next day you go to defend the front line, but you can not leave until you have secured the enemy. When you go to defend a position you know well, it is difficult to return without a failure. If you are not close to the enemy, finding a way to get back to you may require a second approach.<|endoftext|>\n",
      "<|startoftext|>~^~@(1) When fighting in open country, do not advance without taking advantage of the moon's cleftness.~}This is a general rule that all fighting must be seen to be believed. The opposite is also true in business--all fighting must appear against the will of the will of the customer. Such situations are what may lead to legal action or losing an argument as competitors are not fit to handle the situation correctly. In such situations, each competitor must act as if they know all about all competing and must be able to foresee none other than the long term strategy of all of them. Hence when competing in open country, it is good not to be surprised when you have a single competitor who can not handle the situation correctly.<|endoftext|>\n",
      "<|startoftext|>~^~@The principle is the same here--the closer to home the more vulnerable our person will be to attack, the wider will be his strength to withstand disadvantage, and the more highly likely an attack will be made at home the enemy will be present.~}The more vulnerable a place is to attack, the greater will be the chance of surviving the indignity of being caught. If there is no shelter, then the enemy can successfully surprise you there and use that place as a launch pad for further surprise.<|endoftext|>\n",
      "<|startoftext|>~^that-suburbs the-way the-path the-way-with~@When going through subterranean lands, the route found easiest in dry, level country is to go there first, taking the river Suez with you. It will take you no time at all to sweep down on your enemies, and you will at last defeat them in a single blow.~}Setting up camp requires you to wade in enough to gain a footing, but if you are prepared to fight for an on all fours, then you can march through without being overtaken.<|endoftext|>\n",
      "<|startoftext|>~^~@Movement without end, without gain, without reward--all that is needed is movement to get an end of the war in its proper time.~}Moving armies need to move fast to reach their destinations and at all costs to arrive. If you are going to war fast, then your army needs to travel at a rapid pace, even before they reach their destination. Speed also slows them down as you move, creating time to meet the enemy as they arrive at their destination.<|endoftext|>\n",
      "<|startoftext|>~^exhaust the-enemy~@If you fight in battle, do as is called against the will of the enemy. If, however, you do not fight and receive an equitable reward, the enemy will not fight for you, you will surely be captured and tortured for your disobedience. Evil will ensue and you wither away, like a snake.~}Fight and you will come to the rescue. If you do not fight and receive a just reward, you will likely be held responsible and tortured for your disobedience. If you do not reject such punishments, then the enemy will then be bound and unable to respect your decisions nor will they recognize your loyalty or follow your orders.<|endoftext|>\n",
      "<|startoftext|>~^the-enemy obey his-ruler~@To obey your ruler is not to be accepted.~}When you are not in power, and without a clear moral code, you will be punished accordingly. Moral code is as a tool: you can find and understand what is good\n",
      "\n",
      "[110 | 81.62] loss=0.70 avg=0.70\n",
      "Saving checkpoint/run1/model-110\n",
      "[120 | 127.95] loss=0.92 avg=0.81\n",
      "Saving checkpoint/run1/model-120\n",
      "WARNING:tensorflow:From /home/ubuntu/anaconda3/envs/tensorflow_p37/lib/python3.7/site-packages/tensorflow_core/python/training/saver.py:963: remove_checkpoint (from tensorflow.python.training.checkpoint_management) is deprecated and will be removed in a future version.\n",
      "Instructions for updating:\n",
      "Use standard file APIs to delete files with this prefix.\n",
      "[130 | 174.55] loss=0.54 avg=0.72\n",
      "Saving checkpoint/run1/model-130\n",
      "[140 | 220.90] loss=0.50 avg=0.66\n",
      "Saving checkpoint/run1/model-140\n",
      "[150 | 267.25] loss=0.34 avg=0.60\n",
      "Saving checkpoint/run1/model-150\n",
      "[160 | 313.47] loss=0.32 avg=0.55\n",
      "Saving checkpoint/run1/model-160\n",
      "[170 | 359.70] loss=0.33 avg=0.52\n",
      "Saving checkpoint/run1/model-170\n",
      "[180 | 405.87] loss=0.35 avg=0.50\n",
      "Saving checkpoint/run1/model-180\n",
      "[190 | 452.07] loss=0.23 avg=0.46\n",
      "Saving checkpoint/run1/model-190\n",
      "[200 | 498.25] loss=0.23 avg=0.44\n",
      "Saving checkpoint/run1/model-200\n",
      "======== SAMPLE 1 ========\n",
      " battle. The more direct an army is, the higher its profit. The principle is the same in chess and many other situations: If you win, get far more done doing the bidding of your opponent than you are permitted. This principle is equally applicable in business. If you can win but the CEO or board does not like it, you can move on to a better product or service. It does not necessarily follow that a better CEO or better better service is better than a better job offer. If you are not paid well, you will not get the opportunity you think you need.<|endoftext|>\n",
      "<|startoftext|>~^discipline their-forces~@The five elements (water, fire, wood, metal, earth) are not always equally predominant; the four seasons make way for each other in turn. The five precipices (feet below the ground, up, left) form contours that aid in fighting and flowing around powerful defensive devices.~}When you break things down to the fundamental elements, the predominant ones are inthe basics such as water, water dynamics, and dynamics of gears and wheels. The dynamics of water are governed by four elements: kinetic energy, dynamic force, and dynamic strain. The five forces (earth, fire, water, wood) are all about dynamic forcing. A formula for calculating these forces is found in Defense. Of course you can only use these you either have trouble winning or you must resort elsewhere.<|endoftext|>\n",
      "<|startoftext|>~^succeed~@The five elements (water, fire, wood, metal, earth) are not always equally predominant; the four seasons make way for each other in turn. The five precipices (feet below the ground, up, left) form contours that aid in fighting and flowing around powerful defensive devices.~}When you break things down to the fundamental elements, the predominant ones are inthe basics such as water, water dynamics, and dynamics of gears and wheels. The dynamics of water are all about dynamic forcing. A formula for calculating these forces is found in Defense. Of course you can only use these you either have trouble winning or you must resort elsewhere.<|endoftext|>\n",
      "<|startoftext|>~^the-enemy advantage~@Hence it is not the army's power to induce an enemy to join his host; it is the power of the liberator to induce him to join his host.~}When an army crosses paths with a highly developed race, it is highly likely they have fought against liberators before. The same is true of humans. Whilst we humans are better than their,succeed in many ways, we are also more powerful. This applies to both men and animals. Know your advantage and disadvantage and always consider the greater good. In business, know your advantage and disadvantage, and always consider the greater good.<|endoftext|>\n",
      "<|startoftext|>~^the-army~@Hence it is not the army's power to induce an enemy to join his host; it is the power of the liberator to induce him to join his host.~}When an army crosses paths with a highly developed race, it is highly likely they have fought against liberators before. The same is true of humans. Whilst we humans are better than their,succeed in many ways, we are also more powerful. This applies to both men and animals. Know your advantage and disadvantage and always consider the greater good. In business, know your advantage and disadvantage, and always consider the greater good.<|endoftext|>\n",
      "<|startoftext|>~^~@At first, then, feel free to speak of spying. For, going through channels of communication, you may die.~}Spying is not the same as \"attacking enemies\". It may be use of information to understand one's enemy. It may be sharing information about plans. It may even include secret codebreaking.As far as you can see, so far as spying goes, this is madness. You may be able to use signals intelligence (SI), or you may be able to use door-to-door spying. All of this is madness.It is foolish, of course, to invade war from a country which has been and remains a spy-issuance-country.<|endoftext|>\n",
      "<|startoftext|>~^~@Hence it is not the army's power to induce an enemy to join his host; it is the power of the liberator to induce him to join his host.~}When an army crosses paths with a highly developed race, it is highly likely they have fought against liberators before. The same is true of humans. Whilst we humans are better than their,succeed in many ways, we are also more powerful. This applies to both men and animals. Know your advantage and disadvantage and always consider the greater\n",
      "\n",
      "[210 | 561.76] loss=0.23 avg=0.42\n",
      "Saving checkpoint/run1/model-210\n",
      "[220 | 607.95] loss=0.22 avg=0.40\n",
      "Saving checkpoint/run1/model-220\n",
      "[230 | 654.26] loss=0.19 avg=0.39\n",
      "Saving checkpoint/run1/model-230\n",
      "[240 | 700.46] loss=0.15 avg=0.37\n",
      "Saving checkpoint/run1/model-240\n",
      "[250 | 746.76] loss=0.20 avg=0.36\n",
      "Saving checkpoint/run1/model-250\n",
      "[260 | 793.02] loss=0.13 avg=0.34\n",
      "Saving checkpoint/run1/model-260\n",
      "[270 | 839.27] loss=0.17 avg=0.33\n",
      "Saving checkpoint/run1/model-270\n",
      "[280 | 885.91] loss=0.13 avg=0.32\n",
      "Saving checkpoint/run1/model-280\n",
      "[290 | 932.51] loss=0.15 avg=0.31\n",
      "Saving checkpoint/run1/model-290\n",
      "[300 | 979.14] loss=0.11 avg=0.30\n",
      "Saving checkpoint/run1/model-300\n",
      "======== SAMPLE 1 ========\n",
      " watch as the enemy steadily marches, then the only alternative is to surrender.\"~}The end of a long war is not good for your reputation. It signals failure. Successful campaigns are littered with campaigns that were well-managed and with rewards for hard work. It is easy in business to cheerleaders for their tenacity, but it is much harder in competition.<|endoftext|>\n",
      "<|startoftext|>~^~@To secure ourselves against defeat lies in our own hands, but the slightest disturbance of the enemy's way requires the intervention of the State.~}Generals are not perfect. The best soldiers are not necessarily the best leaders. They are likely both and they will trade insults over this. Understand the greater potential for mismanagement and other unwise decisions.<|endoftext|>\n",
      "<|startoftext|>~^difficulty~@In hemmed-in warfare, then, make no secret of the fact that you will defend against all; in hemmed-in attack, then, wait at a distance;--this is the art of overcoming obstacles.~}History is full of failures to understand and failures to anticipate such failures. If you are not ready for the test, then the next is much harder and so on.<|endoftext|>\n",
      "<|startoftext|>~^~@When, in consequence of heavy rains up-country, a river which you wish to ford is swollen and flecked with foam, you must wait until it subsides.~}When there is nothing to move about, you must fight. If you cannot move quickly, you must fight in confusion. If you are in a strongly-willed defensive stance, then the enemy will have little time to take these three actions on their own terms. In war, this is where defensive thinking is most useful. They can see an army in a wisp of fire and react accordingly. Taking defensive stances allows you to keep them bound behind their backs, which gives them an opening to attack. When they are bound behind your back, they are vulnerable and cannot move or talk to you. It is in their neutral nature that attackers will attack, and they will panic and move at a rapid pace to avoid you.<|endoftext|>\n",
      "<|startoftext|>~^~@In hemmed-in warfare, then, make no secret of the fact that you will defend against all; in hemmed in attack, then, wait at a distance;--this is the art of overcoming obstacles.~}History is full of failures to understand and failures to anticipate such failures. If you are not ready for the test, then the next is much harder and so on.<|endoftext|>\n",
      "<|startoftext|>~^~@To secure ourselves against defeat lays in our own hands, but the slightest disturbance of the enemy's way requires the intervention of the State.~}Generals are not perfect. The best soldiers are not necessarily the best leaders. They are likely both and they will trade insults over this. Understand the greater potential for mismanagement and other unwise decisions.<|endoftext|>\n",
      "<|startoftext|>~^able~@The Moral Law causes the people to be in complete accord with their ruler, so that they will follow him regardless of whether they are soldiers, civilians, or makers of chariots.~}When a ruler acts in a moral way, showing fairness in all dealings and caring for the subjects, then the subjects willreciprocate, caring in return even to the point of death. Love begets love. Moral law is also related to harmony and ensuring alignment in all things. In business, a perform-or-perish, hire-and-fire attitude may seem good for business but does not lead to loyal employees. If you clearly care about your people they will care about you and care about the business. Leadership begets followership.<|endoftext|>\n",
      "<|startoftext|>~^~@When, in consequence of heavy rains up-country, a river which you wish to fight, is swollen and flecked with foam, you must wait until it subsides.~}When there is nothing to move about, you must fight. If you cannot move quickly, you must fight in confusion. If you are in a strongly-willed defensive stance, then the enemy will have little time to take these three actions on their own terms. In war, this is where defensive thinking is most useful. They can see an army in a wisp of fire and react accordingly. Taking defensive stances allows you to keep them bound behind their backs, which gives them an opening to attack. When they are bound behind their back, they are vulnerable and cannot move or talk to you. It is in their neutral nature that attackers will attack, and they will panic and move at a rapid pace to avoid you.<|endoftext|>\n",
      "\n",
      "[310 | 1043.51] loss=0.13 avg=0.29\n",
      "Saving checkpoint/run1/model-310\n",
      "[320 | 1090.10] loss=0.15 avg=0.28\n",
      "Saving checkpoint/run1/model-320\n",
      "[330 | 1136.55] loss=0.11 avg=0.27\n",
      "Saving checkpoint/run1/model-330\n",
      "[340 | 1183.15] loss=0.11 avg=0.27\n",
      "Saving checkpoint/run1/model-340\n",
      "[350 | 1229.70] loss=0.13 avg=0.26\n",
      "Saving checkpoint/run1/model-350\n",
      "[360 | 1276.35] loss=0.11 avg=0.25\n",
      "Saving checkpoint/run1/model-360\n",
      "[370 | 1322.90] loss=0.11 avg=0.25\n",
      "Saving checkpoint/run1/model-370\n",
      "[380 | 1369.47] loss=0.13 avg=0.24\n",
      "Saving checkpoint/run1/model-380\n",
      "[390 | 1416.08] loss=0.10 avg=0.24\n",
      "Saving checkpoint/run1/model-390\n",
      "[400 | 1462.62] loss=0.09 avg=0.23\n",
      "Saving checkpoint/run1/model-400\n",
      "======== SAMPLE 1 ========\n",
      " bay~@When an enemy leaves a garrison post, he is gone; when his antagonists besiege walled cities, they are gone.~}Laying siege to a strongly defended position is poor in many ways. It is likely to drag on for a long time. It is hard work and takes much resource. Your troops are exposed while theirs are hidden. The sheer cost of siege makes it a final option only.<|endoftext|>\n",
      "<|startoftext|>~^host enemy~@Hence it is that which none in the whole army are more intimate relations to be maintained than with spies. None should be more liberally rewarded. In no other business should greater secrecy be preserved.~}Keep your spies close. Know all that is to be known about them. Treat them well and make them feel important. Pay them well also, for their exploits and find every way to keep them motivated and loyal.<|endoftext|>\n",
      "<|startoftext|>~^outlaw cautious~@Hence it is that which none in the whole army are more intimate relations to be maintained than with spies. None should be more liberally rewarded. In no other business should greater secrecy be preserved.~}Keep your spies close. Know all that is to be known about them. Treat them well and make them feel important. Pay them well also, for their exploits and find every way to keep them motivated and loyal.<|endoftext|>\n",
      "<|startoftext|>~^outlaw~@Hence it is that which none in the whole army are more intimate relations to be maintained than with spies. None should be more liberally rewarded. In no other business should greater secrecy be preserved.~}Keep your spies close. Know all that is to be known about them. Treat them well and make them feel important. Pay them well also, for their exploits and find every way to keep them motivated and loyal.<|endoftext|>\n",
      "<|startoftext|>~^~@If asked how to best rouse a general, I should say, that he is Hieronymus Bos, the Great Spirit.~}Bos is the greatest of generals, who has been called the \"Humble Virgin\". He is the master of ceremonies and the arbiter of honor. In business he is perhaps best understood as a manager who codes and codes rewards and punishments. Those who are seen as more competent than him deserve respect. MBA students learn how to set up successful companies by ear, study how to avoid five problems and more.<|endoftext|>\n",
      "<|startoftext|>~^~@Hence it is that which none in the whole army are more intimate relations to be maintained than with spies. None should be more liberally rewarded. In no other business should greater secrecy be preserved.~}Keep your spies close. Know all that is to be known about them. Treat them well and make them feel important. Pay them well also, for their exploits and find every way to keep them motivated and loyal.<|endoftext|>\n",
      "<|startoftext|>~^the-general his-presence~@To cause a general to be aware of another's purpose and ability, is to cause him to be vigilant and to be ready for battle.~}The 'knowing' person, as they work together, will ensure that the right decisions are taken and that the right allies are made. With little collective action, each mistake will be felt fully by the commander-in-chief. Impoverished leaders create disunity and division in the first place. The first step in bringing about the intended effect is a disarray of resources and decisions. When such disorder is reached, the troops turn to one resource only--War. When it is too late to fight, the troops go to work to restore order.<|endoftext|>\n",
      "<|startoftext|>~^his-presence~@To cause a general to be aware of another's purpose and ability, is to cause him to be vigilant and to be ready for battle.~}The 'knowing' person, as they work together, will ensure that the right decisions are taken and that the right allies are made. With little collective action, each mistake will be felt fully by the commander-in-chief. Impoverished leaders create disunity and division in the first place. The first step in bringing about the intended effect is a disarray of resources and decisions. When such disorder is reached, the troops turn to one resource only--War. When it is too late to fight, the troops go to work to restore order.<|endoftext|>\n",
      "<|startoftext|>~^~@There are five dangerous faults which may affect a general: (1) Recklessness, which leads to destruction; (2) cowardice, which leads to capture; (3) a skid-mark, which\n",
      "\n",
      "[410 | 1525.56] loss=0.12 avg=0.23\n",
      "Saving checkpoint/run1/model-410\n",
      "[420 | 1571.68] loss=0.08 avg=0.22\n",
      "Saving checkpoint/run1/model-420\n",
      "[430 | 1617.85] loss=0.09 avg=0.22\n",
      "Saving checkpoint/run1/model-430\n",
      "[440 | 1664.03] loss=0.08 avg=0.21\n",
      "Saving checkpoint/run1/model-440\n",
      "[450 | 1710.23] loss=0.08 avg=0.21\n",
      "Saving checkpoint/run1/model-450\n",
      "[460 | 1756.38] loss=0.09 avg=0.20\n",
      "Saving checkpoint/run1/model-460\n",
      "[470 | 1802.56] loss=0.06 avg=0.20\n",
      "Saving checkpoint/run1/model-470\n",
      "[480 | 1848.72] loss=0.10 avg=0.20\n",
      "Saving checkpoint/run1/model-480\n",
      "[490 | 1895.10] loss=0.06 avg=0.19\n",
      "Saving checkpoint/run1/model-490\n",
      "[500 | 1941.26] loss=0.07 avg=0.19\n",
      "Saving checkpoint/run1/model-500\n",
      "======== SAMPLE 1 ========\n",
      " or and not engage in coercive tactics. Moral decision-making is made by the individual soldier who is emotionally prepared and acts accordingly, rather than by the commander. In business, competitive campaigns are more expensive than in war where military expenditure is high.<|endoftext|>\n",
      "<|startoftext|>~^dispersive~@When a chieftain is fighting in his own territory, it is dispersive ground.~}In your own territory, you should have an advantage, both knowing the ground and having friendly natives around.<|endoftext|>\n",
      "<|startoftext|>~^provide secure~@If you are ready for the storm and the heat of autumn, then you should not fight in your own territory. Fight only in your own territory.~}If you are ready for the heat of autumn, then you should not fight in your own territory. Fight only in your own territory.~}If you are ready for the heat of autumn, then you should not fight in your own territory. Fight only in your own territory.~}If you are ready for the heat of autumn, then you should not fight in your own territory. Fight only in your own territory.~}If you are ready for the heat of autumn, then you should not fight in your own territory. Fight only in your own territory.~}If you are ready for the heat of autumn, then you should not fight in your own territory. Fight only in your own territory.~}If you are ready for the heat of autumn, then you should not fight in your own territory. Fight only in your own territory.~}If you are ready for the heat of autumn, then you should not fight in your own territory. Fight only in your own territory.~}If you are ready for the heat of autumn, then you should not fight in your own territory. Fight only in your own territory.~}If you are ready for the heat of autumn, then you should not fight in your own territory. Fight only in your own territory.~}If you are ready for the heat of autumn, then you should not fight in your own territory. Fight only in your own territory.~}If you are ready for the heat of autumn, then you should not fight in your own territory. Fight only in your own territory.~}If you are ready for the heat of autumn, then you should not fight in your own territory. Fight only in your own territory.~}If you are ready for the heat of autumn, then you should not fight in your own territory. Fight only in your own territory.~}If you are ready for the heat of autumn, then you should not fight in your own territory. Fight only in your own territory.~}If you are ready for the heat of autumn, then you should not fight in your own territory. Fight only in your own territory.~}If you are ready for the heat of autumn, then you should not fight in your own territory. Fight only in your own territory.~}If you are ready for the heat of autumn, then you should not fight in your own territory. Fight only in your own territory.~}If you are ready for the heat of autumn, then you should not fight in your own territory. Fight only in your own territory.~}If you are ready for the heat of autumn, then you should not fight in your own territory. Fight only in your own territory.~}If you are ready for the heat of autumn, then you should not fight in your own territory. Fight only in your own territory.~}If you are ready for the heat of autumn, then you should not fight in your own territory. Fight only in your own territory.~}If you are ready for the heat of autumn, then you should not fight in your own territory. Fight only in your own territory.~}If you are ready for the heat of autumn, then you should not fight in your own territory. Fight only in your own territory.~}If you are ready for the heat of autumn, then you should not fight in your own territory. Fight only in your own territory.~}If you are ready for the heat of autumn, then you should not fight in your own territory. Fight only in your own territory.~}If you are ready for the heat of autumn, then you should not fight in your own territory. Fight only in your own territory.~}If you are ready for the heat of autumn, then you should not fight in your own territory. Fight only in your own territory.~}If you are ready for the heat of autumn, then you should not fight in your own territory. Fight only in your own territory.~}If you are ready for the heat of autumn, then you should not fight in your own territory. Fight only in your own territory.~}If you are ready for the heat of autumn, then you should not fight in your own territory\n",
      "\n",
      "[510 | 2004.38] loss=0.06 avg=0.18\n",
      "Saving checkpoint/run1/model-510\n",
      "[520 | 2050.62] loss=0.08 avg=0.18\n",
      "Saving checkpoint/run1/model-520\n",
      "[530 | 2096.81] loss=0.07 avg=0.18\n",
      "Saving checkpoint/run1/model-530\n",
      "[540 | 2143.05] loss=0.06 avg=0.17\n",
      "Saving checkpoint/run1/model-540\n",
      "[550 | 2189.32] loss=0.06 avg=0.17\n",
      "Saving checkpoint/run1/model-550\n",
      "[560 | 2235.60] loss=0.06 avg=0.17\n",
      "Saving checkpoint/run1/model-560\n",
      "[570 | 2281.78] loss=0.06 avg=0.17\n",
      "Saving checkpoint/run1/model-570\n",
      "[580 | 2328.02] loss=0.06 avg=0.16\n",
      "Saving checkpoint/run1/model-580\n",
      "[590 | 2374.16] loss=0.06 avg=0.16\n",
      "Saving checkpoint/run1/model-590\n",
      "[600 | 2420.33] loss=0.03 avg=0.16\n",
      "Saving checkpoint/run1/model-600\n",
      "======== SAMPLE 1 ========\n",
      " very important. Even though they lack initiative, they clearly care about you and care about the land they serve. It is easy in business for a small company to be taken advantage of. Even small regulations can have a significant cost. See the cost at the end of this article for why it is important.<|endoftext|>\n",
      "<|startoftext|>~^~@These six are the principles connected with Earth.~}At the root of all problems is understanding the limits of the possible. In physics there are three types of uncertainty:\n",
      "1. Uncertainty is angle, space and time. 2. Uncertainty is direction. and 3. Uncertainty is strength. For understanding these, it is best to think creatively. In locales where there are other challenges, such as high rivers, take advantage of local conditions and nature. 3. Uncertainty is information. If you can send signals that cannot be intercepted, then the enemy can prepare to respond by deception, for example by pulling up a ravine that has no access to water. In business, if you can anticipate competitive action and can wait until the situation calls for it, you have a great advantage.<|endoftext|>\n",
      "<|startoftext|>~^inflict hold~@By holding out baits, he keeps him on the march; then with a body of picked men he lies in wait for him.~}Baiting is just one form of deceit. By luring the enemy into traps an easy win may be achieved. Ambush is a common and effective tactic.<|endoftext|>\n",
      "<|startoftext|>~^wait defeat~@When the enemy is close at hand and remains quiet, he is relying on the natural strength of his position.~}An enemy that does not attack or does not flee is likely confident where they are. If you cannot see their advantage, be very wary. It is also possible that they can see no advantageous action. To know this, look for signs of confusion in their camp. In business, if a competitor is not taking competitive action, ask yourself why.<|endoftext|>\n",
      "<|startoftext|>~^~@Hold out baits to entice the enemy. Feign disorder, and crush him.~}These are but two examples, and yet each deserves attention. When an opponent is close to you and does not wish to fight, then you can cause their true strength to be hidden in plain sight. By distancing yourself from their innermost thoughts, you can ensure that your deepest fears are unravelled. In this way, a thousand futures are formed into one concentrated force. Better is to create a powerful drive that drives home the point that way too much effort is put into building walls and canardings are not true lessons. In business, drive is a critical part of sales where brash tactics can lose.<|endoftext|>\n",
      "<|startoftext|>~^~@Such are the provisions of a Caspian straits.~}It is better to understand the surplice of a strait than to attack it. Attack bubbles form when there is dust rising and when the wings are compressed. Dust collects in difficult ground and falls easily on the unprepared. It is a common and effective tactic.<|endoftext|>\n",
      "<|startoftext|>~^~@So in war, the way is to avoid what is strong and to strike at what is weak.~}Fighting a strong force is a good way of losing troops, yet many combatants have thought the only way to win is through direct conflict. There are many alternatives and only a fool dashes himself against a rock.<|endoftext|>\n",
      "<|startoftext|>~^~@He who knows these things, and in fighting puts his knowledge into practice, will win his battles. He who knows them not, nor practices them, will surely be defeated.~}You not only need to know things, you have to use them in the right way. Both of these steps have to be made. History is littered with failures to understand and failures to apply what is understood.<|endoftext|>\n",
      "<|startoftext|>~^war way the-way~@So in war, the way is to avoid what is strong and to strike at what is weak.~}Fighting a strong force is a good way of losing troops, yet many combatants have thought the only way to win is through direct conflict. There are many alternatives and only a fool dashes himself against a rock.<|endoftext|>\n",
      "<|startoftext|>~^~@To refrain from intercepting an enemy whose banners are in perfect order, to refrain from attacking an army drawn up in calm and confident array:--this is the art of studying circumstances.~}Striking at the enemy requires good timing. Panicked troops or those\n",
      "\n",
      "[610 | 2483.86] loss=0.04 avg=0.15\n",
      "Saving checkpoint/run1/model-610\n",
      "[620 | 2530.18] loss=0.05 avg=0.15\n",
      "Saving checkpoint/run1/model-620\n",
      "[630 | 2576.58] loss=0.05 avg=0.15\n",
      "Saving checkpoint/run1/model-630\n",
      "[640 | 2622.80] loss=0.07 avg=0.15\n",
      "Saving checkpoint/run1/model-640\n",
      "[650 | 2668.98] loss=0.05 avg=0.15\n",
      "Saving checkpoint/run1/model-650\n",
      "[660 | 2715.28] loss=0.05 avg=0.14\n",
      "Saving checkpoint/run1/model-660\n",
      "[670 | 2761.39] loss=0.05 avg=0.14\n",
      "Saving checkpoint/run1/model-670\n",
      "[680 | 2807.58] loss=0.06 avg=0.14\n",
      "Saving checkpoint/run1/model-680\n",
      "[690 | 2853.77] loss=0.04 avg=0.14\n",
      "Saving checkpoint/run1/model-690\n",
      "[700 | 2900.09] loss=0.05 avg=0.13\n",
      "Saving checkpoint/run1/model-700\n",
      "======== SAMPLE 1 ========\n",
      " if you let them get away. And even if they are strong, when they are cornered, they will fight on their own account. To fight on your own account is the breaking down of bonds, the replacement of forces, the draining of the gorges, the complete and total withdrawal of all our supplies.~}Here are five things to keep in mind when you are seeking to fight in the Summer. 1. Rain provides camouflage and energy. If you stay in high places, you can constantly see an advancing army. If you stay in low places, you may suffer a humiliating defeat. 2. Rain provides depth and comfort. Benevolence is by nature a timid warrior. If he or she is startled, they may be paralyzed by fright. When they are sufficiently moved, they may willingly give in and fight on their own account. 3. Water provides cover and protection. Underwater cities give easier movement as the need for cover may be different for each. 4. Water can be used in many ways, for example: - Rain provides energy that even the strongest of fighters is destroyed. When the enemy is cut off,   the cover created by the river deltsoilsglers can hold together for long before they are used up. }In physics, cover does not equal destruction. Dispersive fighting removes those who can move and lets you fire down on their positions. Dispersive tactics are like bulldozers, finding ways around defensive methods to move fire destruction everywhere. When you are down, you can still use the same tactics again, this time to greater advantage.<|endoftext|>\n",
      "<|startoftext|>~^the-subtlest-blend~@The subtle differences that distinguish the branches of a tree from the swamps of a country make it a point of study to determine the spots where to sow and where to pack our encampment.~}When to sow: who knows where the troops will be on their way to fighting. There are also places where good planting can be needed. Best to plan accordingly.<|endoftext|>\n",
      "<|startoftext|>~^the-whole-army army face~@Camp in the face of a large force, then move up and down the scale, so that there is no difficulty in wresting a single drop of blood from your enemy.~}When there are hostile beasts on the move, it is important that they be treated with humanity and fairness. Troops are clearly aggressive when they are fearful and will come to the rescue even at the edge of an army. When they see that your troops are in a position to naturalise, they will show a greater sense of resolve and will seek to prevent you doing the same. In this positive energy we can all become loyal.<|endoftext|>\n",
      "<|startoftext|>~^~@By applying the Five Constantists principles to the operations of a battleship, she will be able to determine the proper days and months for each, and her calculations to be able to meet the coming of the enemy on the day she arrives.~}Matches are won by the hand. It is why armies are used to fighting in mid-day when they start planning and knowing nothing of the coming counter-attack until it actually appears.<|endoftext|>\n",
      "<|startoftext|>~^death unknown~@Thus the good fighter is unable to make a single kick in his opponent's direction, while the dangerous artist strikes at a single nail deep in his opponent's, and does not penetrate into their body; while the powerful captain shapes his maneuvers in relation to the coming of the enemy.~}Concern for the safety of the party and the well-being of the enemy is important here. In business, underhanded tactics are likely to succeed where delicate business communications go unreadily into enemy territory. Packing up also gives control whilst hiding your true desires. In business as in war, take advantage of opportunities and avoid being caught out in both. Ensuring your people are constantly on the same page is a core business skill.<|endoftext|>\n",
      "<|startoftext|>~^~@Camp in high places, facing the sun. Do not climb heights in order to fight. So much for mountain warfare.~}If you can avoid the elements and use fire only when necessary, you can travel far, fight many battles than people think they can see, and still survive. The same problem faces business. When there is too much doing, they lash out. When they are too busy trying to do right things, they make decisions based on bad data and knowledge.<|endoftext|>\n",
      "<|startoftext|>~^~@If soldiers are punished before they have grown attached to you, they will not prove submissive; and, unless submissive, then will be practically useless. If, when the soldiers have become attached to you, punishments are not enforced,\n",
      "\n",
      "[710 | 2962.92] loss=0.04 avg=0.13\n",
      "Saving checkpoint/run1/model-710\n",
      "[720 | 3009.04] loss=0.04 avg=0.13\n",
      "Saving checkpoint/run1/model-720\n",
      "[730 | 3055.22] loss=0.04 avg=0.13\n",
      "Saving checkpoint/run1/model-730\n",
      "[740 | 3101.43] loss=0.05 avg=0.13\n",
      "Saving checkpoint/run1/model-740\n",
      "[750 | 3147.58] loss=0.05 avg=0.13\n",
      "Saving checkpoint/run1/model-750\n",
      "[760 | 3193.76] loss=0.03 avg=0.12\n",
      "Saving checkpoint/run1/model-760\n",
      "[770 | 3240.00] loss=0.05 avg=0.12\n",
      "Saving checkpoint/run1/model-770\n",
      "[780 | 3286.87] loss=0.04 avg=0.12\n",
      "Saving checkpoint/run1/model-780\n",
      "[790 | 3333.63] loss=0.04 avg=0.12\n",
      "Saving checkpoint/run1/model-790\n",
      "[800 | 3380.41] loss=0.04 avg=0.12\n",
      "Saving checkpoint/run1/model-800\n",
      "======== SAMPLE 1 ========\n",
      " bellies. The ability to see possibilities and take your organisation there is a rare resource amongst warriors. There is much about business, politics and so on that is not discussed or debated. In business, openness to ideas is a core ten principle.<|endoftext|>\n",
      "<|startoftext|>~^~@This is called ability to accomplish a thing by sheer cunning.~}Cunning is doing things that are not expected. It takes creativity and ingenuity as well as openness to ideas. Cunning in business is also a rare resource and some companies kill it with easy statements like 'that won't work'. Of course you must stay legal and must beware negative brand impact of sly tactics. Yet bold cunning can also make you look smart and successful.<|endoftext|>\n",
      "<|startoftext|>~^destruction~@There are five dangerous faults which may affect a general: (1) Recklessness, which leads to destruction; (2) cowardice, which leads to capture; (3) a hasty temper, which can be provoked by insults; (4) a delicacy of honor which is sensitive to shame; (5) over-solicitude for his men, which exposes him to worry and trouble.~}Here are five sins or faults that must be avoided. 1. Recklessness is making decisions based on anger, hope or other dangerous emotions. It is better to make decisions using knowledge and facts. 2. In war you cannot but make decisions. A decision not to fight when it is necessary leads to flight and capture and losing all the same. Not only does cowardice lose the war, it also results in shame and dishonor. 3. A commander or simple soldier who is easily provoked is one who is easily defeated by the cunning enemy. Provocation which leads to anger also leads to hasty action and falling into traps. 4. A sense of honor is mostly a good thing, but it can be hazardous when the thought of shame leads to losing actions, such as entering into a battle that cannot be won. 5. Caring for your soldiers is also a good thing unless taken to excess, whereby fear for their safety can lead to unwise strategic decisions. In war, generals must be ready to send their soldiers to their deaths in order to achieve the greater goal of victory. These rules apply to business too, where recklessness and other foolhardiness can be very expensive.<|endoftext|>\n",
      "<|startoftext|>~^~@There are five dangerous faults which may affect a general: (1) Recklessness, which leads to destruction; (2) cowardice, which leads to capture; (3) a hasty temper, which can be provoked by insults; (4) a delicacy of honor which is sensitive to shame; (5) over-solicitude for his men, which exposes him to worry and trouble.~}Here are five sins or faults that must be avoided. 1. Recklessness is making decisions based on anger, hope or other dangerous emotions. It is better to make decisions using knowledge and facts. 2. In war you cannot but make decisions. A decision not to fight when it is necessary leads to flight and capture and losing all the same. Not only does cowardice lose the war, it also results in shame and dishonor. 3. A commander or simple soldier who is easily provoked is one who is easily defeated by the cunning enemy. Provocation which leads to anger also leads to hasty action and falling into traps. 4. A sense of honor is mostly a good thing, but it can be hazardous when the thought of shame leads to losing actions, such as entering into a battle that cannot be won. 5. Caring for your soldiers is also a good thing unless taken to excess, whereby fear for their safety can lead to unwise strategic decisions. In war, generals must be ready to send their soldiers to their deaths in order to achieve the greater goal of victory. These rules apply to business too, where recklessness and other foolhardiness can be very expensive.<|endoftext|>\n",
      "<|startoftext|>~^~@Anger may in time change to gladness.~}Emotions do not stay. Anger fades, as does happiness, sadness and other emotions. We each have a temperamental level of good and bad feeling. So if you are moved to action by your feelings, wait.<|endoftext|>\n",
      "<|startoftext|>~^~@By altering his arrangements and changing his plans, he keeps the enemy without definite knowledge. By shifting his camp and taking circuitous routes, he prevents the enemy from anticipating his purpose.~}Even if there is no leakage of information from your soldiers, you should assume that the enemy are watching you. Actions such as movements that have no particular purpose will be analyzed and purpose concluded. In this way, the true purpose may remain hidden and give the dual advantage of preventing readiness and creating\n",
      "\n",
      "[810 | 3445.34] loss=0.04 avg=0.12\n",
      "Saving checkpoint/run1/model-810\n",
      "[820 | 3491.95] loss=0.04 avg=0.11\n",
      "Saving checkpoint/run1/model-820\n",
      "[830 | 3538.63] loss=0.05 avg=0.11\n",
      "Saving checkpoint/run1/model-830\n",
      "[840 | 3585.31] loss=0.04 avg=0.11\n",
      "Saving checkpoint/run1/model-840\n",
      "[850 | 3631.91] loss=0.04 avg=0.11\n",
      "Saving checkpoint/run1/model-850\n",
      "[860 | 3678.69] loss=0.03 avg=0.11\n",
      "Saving checkpoint/run1/model-860\n",
      "[870 | 3725.28] loss=0.03 avg=0.11\n",
      "Saving checkpoint/run1/model-870\n",
      "[880 | 3771.95] loss=0.05 avg=0.11\n",
      "Saving checkpoint/run1/model-880\n",
      "[890 | 3818.55] loss=0.03 avg=0.10\n",
      "Saving checkpoint/run1/model-890\n",
      "[900 | 3864.95] loss=0.03 avg=0.10\n",
      "Saving checkpoint/run1/model-900\n",
      "======== SAMPLE 1 ========\n",
      " weatherful, the enemy will not let you cross his frontier.<|endoftext|>\n",
      "<|startoftext|>~^dispersive~@When a chieftain is fighting in his own territory, it is dispersive ground.~}In your own territory, you should have an advantage, both knowing the ground and having friendly natives around.<|endoftext|>\n",
      "<|startoftext|>~^shepherd~@He burns his boats and breaks his cooking-pots; like a shepherd driving a flock of sheep, he drives his men this way and that, and nothing knows whither he is going.~}Burning boats and bridges also removes the option to return. The notion of breaking cooking pots is that the only way to get food is to defeat the enemy and take theirs. There is much about drive, keeping the energy up and ready for battle. As in other moves, sustainingconfusion in this will keep the enemy uncertain and allow you to strike best at weakness.<|endoftext|>\n",
      "<|startoftext|>~^~@He burns his boats and breaks his cooking-pots; like a shepherd driving a flock of sheep, he drives his men this way and that, and nothing knows whither he is going.~}Burning boats and bridges also removes the option to return. The notion of breaking cooking pots is that the only way to get food is to defeat the enemy and take theirs. There is much about drive, keeping the energy up and ready for battle. As in other moves, sustainingconfusion in this will keep the enemy uncertain and allow you to strike best at weakness.<|endoftext|>\n",
      "<|startoftext|>~^hands the-opportunity opportunity~@To secure ourselves against defeat lies in our own hands, but the opportunity of defeating the enemy is provided by the enemy himself.~}If you have a good defense, you will survive attacks. If you have a weak defense, then even a moderate attack may well succeed. The same is true for your enemy. Understand their defense to know how hard or easy it will be to defeat them. This is the principle of the feint, where a false attack triggers a defensive move that also exposes a weakness. In business, you can make small competitive moves just to see how your competitors react. You can then plan a more effective campaign.<|endoftext|>\n",
      "<|startoftext|>~^raise supplies~@With regard to ground of this nature, be before the enemy in occupying the raised and sunny spots, and carefully guard your line of supplies. Then, when the enemy has occupied them, you will be able to fight with advantage.~}Accessible ground need not be level, just easy to traverse. Within this, some places will be more advantageous than others. These are worth occupying first. In accessible ground you may travel far, creating the need for a long and vulnerable supply line which your enemy may try to sever. Effort should be put into protecting this life-giving umbilical cord.<|endoftext|>\n",
      "<|startoftext|>~^~@Security against defeat implies defensive tactics; ability to defeat the enemy means taking the offensive.~}To avoid losing, you must be able to defend. Knowing this, you can spend too much on building a strong defense. To win, however, you must be able to attack. And so you must also plan and prepare for winning attacks. Chang Yu said: \"Attack is the secret of defense; defense is the planning of an attack. \"<|endoftext|>\n",
      "<|startoftext|>~^the-opportunity defeat enemy~@To secure ourselves against defeat lies in our own hands, but the opportunity of defeating the enemy is provided by the enemy himself.~}If you have a good defense, you will survive attacks. If you have a weak defense, then even a moderate attack may well succeed. The same is true for your enemy. Understand their defense to know how hard or easy it will be to defeat them. This is the principle of the feint, where a false attack triggers a defensive move that also exposes a weakness. In business, you can make small competitive moves just to see how your competitors react. You can then plan a more effective campaign.<|endoftext|>\n",
      "<|startoftext|>~^the-result~@Other conditions being equal, if one force is hurled against another ten times its size, the result will be the flight of the former.~}There are many variables and tactics in war that a general can use. The most primitive approach is for the two armies to meet on a battlefield and just throw themselves at each other. When it is simple force against simple force like this, then the laws of physics say that the greater force will win. This can seem like a strong and honorable approach yet vanity in war is more like foolishness.\n",
      "\n",
      "[910 | 3927.94] loss=0.05 avg=0.10\n",
      "Saving checkpoint/run1/model-910\n",
      "interrupted\n",
      "Saving checkpoint/run1/model-916\n",
      "time taken: 3984.0172441005707\n"
     ]
    }
   ],
   "source": [
    "import time\n",
    "tf.reset_default_graph()\n",
    "\n",
    "sess = gpt2.start_tf_sess()\n",
    "\n",
    "start_time = time.time()\n",
    "gpt2.finetune(sess,\n",
    "              'data/aow_csv_encoded.txt',\n",
    "              model_name=model_name,\n",
    "              restore_from='latest',\n",
    "              run_name='run1',\n",
    "              print_every=10,\n",
    "              sample_every=100,\n",
    "              save_every=10,\n",
    "              max_checkpoints=2,\n",
    "              steps=900)   # steps is max number of training steps\n",
    "print(\"time taken:\", time.time() - start_time)"
   ]
  },
  {
   "cell_type": "code",
   "execution_count": 12,
   "metadata": {},
   "outputs": [
    {
     "name": "stdout",
     "output_type": "stream",
     "text": [
      "<|startoftext|>~^@Without order, you will always be chaotic Without order, you will always be chaotic Without order, you will always be chaotic Without order, you will always be chaotic~}When you are chaotic, you will always be chaotic. When you are orderly, you will always be. The above characteristics suggest how to behave in many situations. In business, some situations are more difficult than others. These are worth taking.\n",
      "<|endoftext|>\n",
      "<|startoftext|>~^the-result obey~@If we know that the enemy is open to attack, but are unaware that our own men are not in a condition to attack, we have gone only halfway towards victory.~}Knowing the readiness or otherwise of the enemy for battle is an important piece of intelligence. If you do not know your own readiness, you will not be able to take advantage of such an opportunity. In business as in war, knowing when and how to act to greatest advantage is very important.<|endoftext|>\n",
      "<|startoftext|>~^know halfway our-own-men~@If we know that our own men are in\n"
     ]
    }
   ],
   "source": [
    "gpt2.generate(sess,\n",
    "              run_name='run1',\n",
    "              prefix='<|startoftext|>~^@Without order, you will always be chaotic Without order, you will always be chaotic Without order, you will always be chaotic Without order, you will always be chaotic~}',\n",
    "              length=200)"
   ]
  },
  {
   "cell_type": "code",
   "execution_count": null,
   "metadata": {},
   "outputs": [],
   "source": []
  },
  {
   "cell_type": "code",
   "execution_count": 13,
   "metadata": {},
   "outputs": [],
   "source": [
    "passages = []\n",
    "with open('data/ddj_passages.txt') as f:\n",
    "    for line in f:\n",
    "        passages.append(line.strip())"
   ]
  },
  {
   "cell_type": "code",
   "execution_count": 20,
   "metadata": {},
   "outputs": [],
   "source": [
    "raw_annotations = []\n",
    "for passage in passages[:42]:\n",
    "    annotation = gpt2.generate(\n",
    "        sess,\n",
    "        run_name='run1',\n",
    "        prefix='<|startoftext|>~^@' + passage + '~}',\n",
    "        length=200,\n",
    "        return_as_list=True\n",
    "    )\n",
    "    raw_annotations.append(annotation)"
   ]
  },
  {
   "cell_type": "code",
   "execution_count": 31,
   "metadata": {},
   "outputs": [],
   "source": [
    "def clean_annotation(annotation):\n",
    "    annotation = annotation[0].split('<|endof')[0].split('~}')[-1]\n",
    "    return annotation\n",
    "annotations = [clean_annotation(annotation) for annotation in raw_annotations]"
   ]
  },
  {
   "cell_type": "code",
   "execution_count": 34,
   "metadata": {},
   "outputs": [],
   "source": [
    "import csv\n",
    "with open('data/annotated_ddj_42.csv', 'w+', encoding='utf-8') as f:\n",
    "    writer = csv.writer(f)\n",
    "\n",
    "    writer.writerow(['quote', 'annotation'])\n",
    "\n",
    "    for title, line in zip(passages, annotations):\n",
    "        writer.writerow([title, line])"
   ]
  },
  {
   "cell_type": "code",
   "execution_count": 40,
   "metadata": {},
   "outputs": [],
   "source": [
    "raw_guillotine_lyrics = \"\"\"It goes, it goes, it goes, it goes\n",
    "It goes, it goes, it goes, it goes\n",
    "Guillotine yah\n",
    "Sit in the dark and ponder how I'm fit to make the bottom fall through the floor\n",
    "And they all fall down yah\n",
    "It goes, it goes, it goes, it goes\n",
    "Guillotine yah\n",
    "Out of the shadows barrage of witch tongue\n",
    "Cobra spit over apocalyptic cult killer cauldron smoke\n",
    "Stomp music seriously yah\n",
    "It goes, it goes, it goes, it goes\n",
    "Guillotine yah\n",
    "Can't stop the groove licks jaws clear off them locks relentless raw movement\n",
    "Fit to knock you from here to that g-spot body rock connected\n",
    "To everything you want, ever did want\n",
    "We got it why not come get it, stick your head in that hole\n",
    "And watch me drop this cold guillotine death sentence yah\n",
    "It goes, it goes, it goes, it goes\n",
    "Guillotine yah\n",
    "Hidden art, between and beneath, every fragmented, figure of speech,\n",
    "Tongue in reverse, whenever the beat, causes my jaws to call\n",
    "Out out out out yah\n",
    "The screens flashing red, can't see shit but heads\n",
    "Spinning exorcist like planets\n",
    "Out of orbit off the edge\n",
    "Off mine axis whipping through doors to far more than all that's ever been said yah\n",
    "Tie the chord kick the chair and your dead yah\n",
    "Yah guillotine yah guillotine yah\n",
    "Head of a trick in a bucket\n",
    "Body of a trick in a bag\n",
    "And thrown in the fire like fuck it\n",
    "Gotta burn it before it goes bad\n",
    "One too many times been disgusted\n",
    "By the stench of rot is such a drag yah\n",
    "Get broke by the street like blood stained glass yah\n",
    "Choke on these nuts til the very last yah\n",
    "It goes, it goes, it goes, it goes\n",
    "Guillotine yah\n",
    "Serial number, killing machine\n",
    "The illest of means\n",
    "To an end built on the filthy sound\n",
    "You're experiencing yah\n",
    "It goes, it goes, it goes, it goes\n",
    "Guillotine yah\n",
    "Tinted windows, bulletproof\n",
    "The slip knot fixing rope to noose\n",
    "To the grave stone grinder of cold steel\n",
    "The passion that blinds me so I feel yah\n",
    "Can't let go, no it flows through our veins\n",
    "Blows through our tunnels and rattles our chains\n",
    "And they all fall down yah\"\"\""
   ]
  },
  {
   "cell_type": "code",
   "execution_count": 45,
   "metadata": {},
   "outputs": [],
   "source": [
    "g_lyrics = raw_guillotine_lyrics.split('\\n')"
   ]
  },
  {
   "cell_type": "code",
   "execution_count": 46,
   "metadata": {},
   "outputs": [
    {
     "data": {
      "text/plain": [
       "['It goes, it goes, it goes, it goes',\n",
       " 'It goes, it goes, it goes, it goes',\n",
       " 'Guillotine yah']"
      ]
     },
     "execution_count": 46,
     "metadata": {},
     "output_type": "execute_result"
    }
   ],
   "source": [
    "g_lyrics[:3]"
   ]
  },
  {
   "cell_type": "code",
   "execution_count": 49,
   "metadata": {},
   "outputs": [],
   "source": [
    "g_raw_annotations = []\n",
    "for passage in g_lyrics[:69]:\n",
    "    annotation = gpt2.generate(\n",
    "        sess,\n",
    "        run_name='run1',\n",
    "        prefix='<|startoftext|>~^@' + passage + '~}',\n",
    "        length=200,\n",
    "        return_as_list=True\n",
    "    )\n",
    "    g_raw_annotations.append(annotation)\n",
    "g_annotations = [clean_annotation(annotation) for annotation in g_raw_annotations]"
   ]
  },
  {
   "cell_type": "code",
   "execution_count": 50,
   "metadata": {},
   "outputs": [],
   "source": [
    "import csv\n",
    "with open('data/annotated_guillotine_69.csv', 'w+', encoding='utf-8') as f:\n",
    "    writer = csv.writer(f)\n",
    "\n",
    "    writer.writerow(['quote', 'annotation'])\n",
    "\n",
    "    for title, line in zip(g_lyrics, g_annotations):\n",
    "        writer.writerow([title, line])"
   ]
  },
  {
   "cell_type": "code",
   "execution_count": 54,
   "metadata": {},
   "outputs": [
    {
     "name": "stdout",
     "output_type": "stream",
     "text": [
      "Loading checkpoint checkpoint/run1/model-90\n",
      "INFO:tensorflow:Restoring parameters from checkpoint/run1/model-90\n"
     ]
    }
   ],
   "source": [
    "tf.reset_default_graph()\n",
    "\n",
    "sess = gpt2.start_tf_sess()\n",
    "\n",
    "gpt2.load_gpt2(\n",
    "    sess,\n",
    "    run_name=\"run1\",\n",
    "    checkpoint_dir=\"checkpoint\",\n",
    ")"
   ]
  },
  {
   "cell_type": "code",
   "execution_count": 55,
   "metadata": {},
   "outputs": [],
   "source": [
    "raq_it_passages = \"\"\"The vital essence of all things:\n",
    "It is this that brings them to life.\n",
    "It generates the five grains below\n",
    "And becomes the constellated stars above .\n",
    "When flowing amid the heavens and the earth\n",
    "We call it ghostly and numinous.\n",
    "When stored within the chests of human beings,\n",
    "We call them sages.\n",
    "Therefore this [form of] vital energy [that is, the vital essence] is:\n",
    "Bright! - as if ascending the heavens;\n",
    "Dark! - as if entering an abyss;\n",
    "Vast! - as if dwelling in an ocean;\n",
    "Lofty! - as if dwelling on a mountain peak.\"\"\""
   ]
  },
  {
   "cell_type": "code",
   "execution_count": 56,
   "metadata": {},
   "outputs": [
    {
     "name": "stdout",
     "output_type": "stream",
     "text": [
      "0\n",
      "6\n",
      "12\n",
      "18\n",
      "24\n",
      "30\n",
      "36\n"
     ]
    }
   ],
   "source": [
    "reg_raw_annotations = []\n",
    "for i, passage in enumerate(passages[:42]):\n",
    "    annotation = gpt2.generate(\n",
    "        sess,\n",
    "        run_name='run1',\n",
    "        prefix='<|startoftext|>~^@' + passage + '~}',\n",
    "        length=200,\n",
    "        return_as_list=True\n",
    "    )\n",
    "    if i % 6 == 0:\n",
    "        print(i)\n",
    "    reg_raw_annotations.append(annotation)\n",
    "\n",
    "reg_annotations = [clean_annotation(annotation) for annotation in reg_raw_annotations]\n",
    "\n",
    "with open('data/annotated_ddj_42_reg.csv', 'w+', encoding='utf-8') as f:\n",
    "    writer = csv.writer(f)\n",
    "\n",
    "    writer.writerow(['quote', 'annotation'])\n",
    "\n",
    "    for title, line in zip(passages, reg_annotations):\n",
    "        writer.writerow([title, line])"
   ]
  },
  {
   "cell_type": "code",
   "execution_count": 60,
   "metadata": {},
   "outputs": [],
   "source": [
    "aow_passages = []\n",
    "aow_gt = []\n",
    "with open('data/aow_commentary_by_quote.csv') as csvfile:\n",
    "    reader = csv.reader(csvfile)\n",
    "    next(reader)\n",
    "    for row in reader:\n",
    "        aow_passages.append(row[0])\n",
    "        aow_gt.append(row[1])"
   ]
  },
  {
   "cell_type": "code",
   "execution_count": 62,
   "metadata": {},
   "outputs": [
    {
     "name": "stdout",
     "output_type": "stream",
     "text": [
      "0\n",
      "6\n",
      "12\n",
      "18\n"
     ]
    }
   ],
   "source": [
    "aow_reg_raw_annotations = []\n",
    "for i, passage in enumerate(aow_passages[:24]):\n",
    "    annotation = gpt2.generate(\n",
    "        sess,\n",
    "        run_name='run1',\n",
    "        prefix='<|startoftext|>~^@' + passage + '~}',\n",
    "        length=200,\n",
    "        return_as_list=True\n",
    "    )\n",
    "    if i % 6 == 0:\n",
    "        print(i)\n",
    "    aow_reg_raw_annotations.append(annotation)\n",
    "\n",
    "aow_reg_annotations = [clean_annotation(annotation) for annotation in aow_reg_raw_annotations]\n",
    "\n",
    "with open('data/annotated_aow_24_reg.csv', 'w+', encoding='utf-8') as f:\n",
    "    writer = csv.writer(f)\n",
    "\n",
    "    writer.writerow(['quote', 'annotation'])\n",
    "\n",
    "    for title, line in zip(aow_passages, aow_reg_annotations):\n",
    "        writer.writerow([title, line])"
   ]
  },
  {
   "cell_type": "code",
   "execution_count": 63,
   "metadata": {},
   "outputs": [],
   "source": [
    "g_reg_raw_annotations = []\n",
    "for passage in g_lyrics[:24]:\n",
    "    annotation = gpt2.generate(\n",
    "        sess,\n",
    "        run_name='run1',\n",
    "        prefix='<|startoftext|>~^@' + passage + '~}',\n",
    "        length=200,\n",
    "        return_as_list=True\n",
    "    )\n",
    "    g_reg_raw_annotations.append(annotation)\n",
    "g_reg_annotations = [clean_annotation(annotation) for annotation in g_reg_raw_annotations]"
   ]
  },
  {
   "cell_type": "code",
   "execution_count": 66,
   "metadata": {},
   "outputs": [],
   "source": [
    "with open('data/annotated_guillotine_24_reg.csv', 'w+', encoding='utf-8') as f:\n",
    "    writer = csv.writer(f)\n",
    "\n",
    "    writer.writerow(['quote', 'annotation'])\n",
    "\n",
    "    for title, line in zip(g_lyrics, g_reg_annotations):\n",
    "        writer.writerow([title, line])"
   ]
  },
  {
   "cell_type": "code",
   "execution_count": 10,
   "metadata": {},
   "outputs": [
    {
     "data": {
      "text/plain": [
       "291"
      ]
     },
     "execution_count": 10,
     "metadata": {},
     "output_type": "execute_result"
    }
   ],
   "source": [
    "len(\"<|startoftext|>~^@Without order, you will always be chaotic~}Know your readiness, the enemy will know your readiness, and you will still have a difficult assault on your hands. In business, this level of intelligence about what competitors are doing can be very valuable.<|endoftext|><|start\")"
   ]
  },
  {
   "cell_type": "code",
   "execution_count": 7,
   "metadata": {},
   "outputs": [
    {
     "name": "stdout",
     "output_type": "stream",
     "text": [
      "Device mapping:\n",
      "/job:localhost/replica:0/task:0/device:XLA_CPU:0 -> device: XLA_CPU device\n",
      "/job:localhost/replica:0/task:0/device:GPU:0 -> device: 0, name: Tesla K80, pci bus id: 0000:00:1e.0, compute capability: 3.7\n",
      "/job:localhost/replica:0/task:0/device:XLA_GPU:0 -> device: XLA_GPU device\n",
      "\n",
      "[<module 'tensorflow' from '/home/ubuntu/anaconda3/envs/tensorflow_p37/lib/python3.7/site-packages/tensorflow/__init__.py'>, <tensorflow.python.client.session.Session object at 0x7f82cc609c50>, [name: \"/device:CPU:0\"\n",
      "device_type: \"CPU\"\n",
      "memory_limit: 268435456\n",
      "locality {\n",
      "}\n",
      "incarnation: 1804147031087798075\n",
      ", name: \"/device:XLA_CPU:0\"\n",
      "device_type: \"XLA_CPU\"\n",
      "memory_limit: 17179869184\n",
      "locality {\n",
      "}\n",
      "incarnation: 6934558112393938769\n",
      "physical_device_desc: \"device: XLA_CPU device\"\n",
      ", name: \"/device:GPU:0\"\n",
      "device_type: \"GPU\"\n",
      "memory_limit: 11330115994\n",
      "locality {\n",
      "  bus_id: 1\n",
      "  links {\n",
      "  }\n",
      "}\n",
      "incarnation: 10559880800339402231\n",
      "physical_device_desc: \"device: 0, name: Tesla K80, pci bus id: 0000:00:1e.0, compute capability: 3.7\"\n",
      ", name: \"/device:XLA_GPU:0\"\n",
      "device_type: \"XLA_GPU\"\n",
      "memory_limit: 17179869184\n",
      "locality {\n",
      "}\n",
      "incarnation: 16796222142296874104\n",
      "physical_device_desc: \"device: XLA_GPU device\"\n",
      "], ['__annotations__', '__call__', '__class__', '__closure__', '__code__', '__defaults__', '__delattr__', '__dict__', '__dir__', '__doc__', '__eq__', '__format__', '__ge__', '__get__', '__getattribute__', '__globals__', '__gt__', '__hash__', '__init__', '__init_subclass__', '__kwdefaults__', '__le__', '__lt__', '__module__', '__name__', '__ne__', '__new__', '__qualname__', '__reduce__', '__reduce_ex__', '__repr__', '__setattr__', '__sizeof__', '__str__', '__subclasshook__'], ['__annotations__', '__call__', '__class__', '__closure__', '__code__', '__defaults__', '__delattr__', '__dict__', '__dir__', '__doc__', '__eq__', '__format__', '__ge__', '__get__', '__getattribute__', '__globals__', '__gt__', '__hash__', '__init__', '__init_subclass__', '__kwdefaults__', '__le__', '__lt__', '__module__', '__name__', '__ne__', '__new__', '__qualname__', '__reduce__', '__reduce_ex__', '__repr__', '__setattr__', '__sizeof__', '__str__', '__subclasshook__', '_tf_api_names', '_tf_api_names_v1']]\n"
     ]
    }
   ],
   "source": [
    "import tensorflow as tf\n",
    "print(\n",
    "    [\n",
    "        tf,\n",
    "        tf.Session(config=tf.ConfigProto(log_device_placement=True)),\n",
    "        #gpt2.tf.device(),\n",
    "        gpt2.device_lib.list_local_devices(),\n",
    "        dir(gpt2.device_lib.list_local_devices),\n",
    "        dir(gpt2.tf.device)\n",
    "    ]\n",
    ")\n"
   ]
  },
  {
   "cell_type": "code",
   "execution_count": null,
   "metadata": {},
   "outputs": [],
   "source": []
  }
 ],
 "metadata": {
  "kernelspec": {
   "display_name": "Environment (conda_tensorflow_p37)",
   "language": "python",
   "name": "conda_tensorflow_p37"
  },
  "language_info": {
   "codemirror_mode": {
    "name": "ipython",
    "version": 3
   },
   "file_extension": ".py",
   "mimetype": "text/x-python",
   "name": "python",
   "nbconvert_exporter": "python",
   "pygments_lexer": "ipython3",
   "version": "3.7.4"
  }
 },
 "nbformat": 4,
 "nbformat_minor": 2
}
