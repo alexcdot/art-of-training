{
 "cells": [
  {
   "cell_type": "code",
   "execution_count": 1,
   "metadata": {},
   "outputs": [],
   "source": [
    "import requests\n",
    "from bs4 import BeautifulSoup\n",
    "import csv\n",
    "import re"
   ]
  },
  {
   "cell_type": "code",
   "execution_count": 2,
   "metadata": {},
   "outputs": [],
   "source": [
    "link = \"http://changingminds.org/disciplines/warfare/art_war/sun_tzu_annotated.htm\""
   ]
  },
  {
   "cell_type": "code",
   "execution_count": 3,
   "metadata": {},
   "outputs": [],
   "source": [
    "raw_html = requests.get(link).text"
   ]
  },
  {
   "cell_type": "code",
   "execution_count": 4,
   "metadata": {},
   "outputs": [],
   "source": [
    "link_tokens = re.findall('href=\"sun.*htm\"', raw_html)"
   ]
  },
  {
   "cell_type": "code",
   "execution_count": 5,
   "metadata": {},
   "outputs": [
    {
     "data": {
      "text/plain": [
       "'href=\"sun_tzu_1-1.htm\"'"
      ]
     },
     "execution_count": 5,
     "metadata": {},
     "output_type": "execute_result"
    }
   ],
   "source": [
    "link_tokens[0]"
   ]
  },
  {
   "cell_type": "code",
   "execution_count": 6,
   "metadata": {},
   "outputs": [],
   "source": [
    "link_regex = r'href=\"(.*?)\"'\n",
    "letter_links = [re.match(link_regex, token).group(1) for token in link_tokens]"
   ]
  },
  {
   "cell_type": "code",
   "execution_count": 7,
   "metadata": {},
   "outputs": [],
   "source": [
    "# remove duplicates, retain order\n",
    "letter_links = list(dict.fromkeys(letter_links))"
   ]
  },
  {
   "cell_type": "code",
   "execution_count": 59,
   "metadata": {},
   "outputs": [],
   "source": [
    "def get_quotes_and_commentary(soup):\n",
    "    content_rows = soup.find_all('table')[2].find_all('tr')[2:]\n",
    "    quotes = []\n",
    "    commentary_lines = []\n",
    "    for row in content_rows:\n",
    "        cols = row.find_all('td')\n",
    "        quote = re.sub('[\\r\\t\\n]', '', cols[0].text)\n",
    "        quote = '.'.join(quote.split('.')[1:]).strip()\n",
    "        commentary = re.sub('[\\r\\t\\n]', '', cols[1].text).strip()\n",
    "        quotes.append(quote)\n",
    "        commentary_lines.append(commentary)\n",
    "    return quotes, commentary_lines\n",
    "\n",
    "def parse_link(letter_page):\n",
    "    page_html = requests.get(letter_page).text\n",
    "    try:\n",
    "        soup = BeautifulSoup(page_html, 'lxml')\n",
    "        return get_quotes_and_commentary(soup)\n",
    "    except Exception as e:\n",
    "        print(letter_page)\n",
    "        print(e)\n",
    "        raise e\n",
    "   "
   ]
  },
  {
   "cell_type": "code",
   "execution_count": 60,
   "metadata": {},
   "outputs": [],
   "source": [
    "base_link = \"http://changingminds.org/disciplines/warfare/art_war\"\n",
    "\n",
    "all_quotes = []\n",
    "all_commentaries = []\n",
    "\n",
    "for link in letter_links:\n",
    "    letter_page = \"{}/{}\".format(base_link, link)\n",
    "    quotes, commentary = parse_link(letter_page)\n",
    "    # print(quotes, commentary)\n",
    "    all_quotes.extend(quotes)\n",
    "    all_commentaries.extend(commentary)"
   ]
  },
  {
   "cell_type": "code",
   "execution_count": 63,
   "metadata": {},
   "outputs": [
    {
     "data": {
      "text/plain": [
       "<map at 0x7fc520b5d630>"
      ]
     },
     "execution_count": 63,
     "metadata": {},
     "output_type": "execute_result"
    }
   ],
   "source": [
    "map(int, [3,4,'5'])"
   ]
  },
  {
   "cell_type": "code",
   "execution_count": 67,
   "metadata": {},
   "outputs": [],
   "source": [
    "# fix_commentary\n",
    "for i in range(len(all_commentaries)):\n",
    "    all_commentaries[i] = '. '.join(list(map(str.strip, all_commentaries[i].split('.')))).strip()"
   ]
  },
  {
   "cell_type": "code",
   "execution_count": 68,
   "metadata": {},
   "outputs": [],
   "source": [
    "with open('data/aow_commentary_by_quote.csv', 'w+', encoding='utf-8') as f:\n",
    "    writer = csv.writer(f)\n",
    "\n",
    "    writer.writerow(['title', 'body'])\n",
    "\n",
    "    for title, line in zip(all_quotes, all_commentaries):\n",
    "        writer.writerow([title, line])"
   ]
  },
  {
   "cell_type": "code",
   "execution_count": 58,
   "metadata": {},
   "outputs": [
    {
     "data": {
      "text/plain": [
       "([\"Therefore the skillful leader subdues the enemy's troops without any fighting; he captures their cities without laying siege to them; he overthrows their kingdom without lengthy operations in the field.\",\n",
       "  'With his forces intact he will dispute the mastery of the Empire, and thus, without losing a man, his triumph will be complete. This is the method of attacking by stratagem.',\n",
       "  \"It is the rule in war, if our forces are ten to the enemy's one, to surround him; if five to one, to attack him; if twice as numerous, to divide our army into two.\",\n",
       "  'If equally matched, we can offer battle; if slightly inferior in numbers, we can avoid the enemy; if quite unequal in every way, we can flee from him.',\n",
       "  'Hence, though an obstinate fight may be made by a small force, in the end it must be captured by the larger force.'],\n",
       " ['The best way of fighting is to avoid fighting. The best way to win a war is with superior strategy that out-thinks, out-plans and out-maneuvers the enemy such that they are forced to concede or else suffer a humiliating defeat.',\n",
       "  'Fighting wars depletes forces which limits the number of wars a commander can wage. If, however, soldiers are not lost and few munitions are used, then the army may march and march to war, defeating all in its path with little incremental cost.',\n",
       "  'Here are some simple rules of thumb that worked for Sun Tzu. The underlying principles are:1. Surrounding an army requires many men and is likely to spread forces thin unless you have a serious advantage in resources.If an army is surrounded by an overwhelming force, there is no way of escape and the only alternative to overwhelming defeat is to surrender. 2. With sufficient numbers, you can still crush an opposing force, although to do so may lose many men and so should be done with care. A way here is to use flanking and other indirect tactics.3. With a smaller advantage, you can still use distractions and phalanxes to divide and conquer a monolithic army.A general rule is that if you have more troops than you need in a single situation, them you can gain advantage by employing the excess troops elsewhere.',\n",
       "  'If your men are better trained, better equipped and more motivated, then hand-to-hand combat should succeed.If you are weaker, then it is better to flee and fight another day when you have built advantage in other ways.',\n",
       "  'Glorious suicide is simply madness.'])"
      ]
     },
     "execution_count": 58,
     "metadata": {},
     "output_type": "execute_result"
    }
   ],
   "source": [
    "letter_page = \"http://changingminds.org/disciplines/warfare/art_war/sun_tzu_3-2.htm\"\n",
    "page_html = requests.get(letter_page).text\n",
    "soup = BeautifulSoup(page_html, 'lxml')\n",
    "get_quotes_and_commentary(soup)"
   ]
  },
  {
   "cell_type": "code",
   "execution_count": 80,
   "metadata": {},
   "outputs": [],
   "source": [
    "letter_page = \"https://ctext.org/dao-de-jing\"\n",
    "page_html = requests.get(letter_page).text\n",
    "soup = BeautifulSoup(page_html, 'lxml')"
   ]
  },
  {
   "cell_type": "code",
   "execution_count": 102,
   "metadata": {},
   "outputs": [
    {
     "data": {
      "text/plain": [
       "[1, 6, 11, 16, 21, 26, 31, 36, 41, 46]"
      ]
     },
     "execution_count": 102,
     "metadata": {},
     "output_type": "execute_result"
    }
   ],
   "source": [
    "list(range(100))[1:50:5]"
   ]
  },
  {
   "cell_type": "code",
   "execution_count": 131,
   "metadata": {},
   "outputs": [],
   "source": [
    "def break_into_chunks(passage, max_chunk_size=150):\n",
    "    chunks = []\n",
    "    curr_sequence = ''\n",
    "    for sentence in re.split('[.;!?]', passage):\n",
    "        sentence = sentence.strip()\n",
    "        if len(sentence) > max_chunk_size:\n",
    "            if len(curr_sequence) > 0:\n",
    "                chunks.append(curr_sequence)\n",
    "                curr_sequence = ''\n",
    "            chunks.append(sentence)\n",
    "        else:\n",
    "            if len(curr_sequence) + len(sentence) > max_chunk_size:\n",
    "                chunks.append(curr_sequence)\n",
    "                curr_sequence = ''\n",
    "            if len(curr_sequence) > 0:\n",
    "                curr_sequence += '. ' \n",
    "            curr_sequence += sentence\n",
    "    return chunks"
   ]
  },
  {
   "cell_type": "code",
   "execution_count": 132,
   "metadata": {},
   "outputs": [
    {
     "data": {
      "text/plain": [
       "['(Embodying the Dao)The Dao that can be trodden is not the enduring and unchanging Dao',\n",
       " 'The name that can be named is not the enduring and unchanging name. (Conceived of as) having no name, it is the Originator of heaven and earth',\n",
       " '(conceived of as) having a name, it is the Mother of all things. Always without desire we must be found,If its deep mystery we would sound',\n",
       " 'But if desire always within us be,Its outer fringe is all that we shall see. Under these two aspects, it is really the same',\n",
       " 'but as development takes place, it receives the different names. Together we call them the Mystery']"
      ]
     },
     "execution_count": 132,
     "metadata": {},
     "output_type": "execute_result"
    }
   ],
   "source": [
    "break_into_chunks(soup.get_text().split('\\n')[448:-20:4][0])"
   ]
  },
  {
   "cell_type": "code",
   "execution_count": 134,
   "metadata": {},
   "outputs": [
    {
     "data": {
      "text/plain": [
       "['that the musical notes and tones become harmonious through the relation of one with another',\n",
       " 'What is meant by speaking thus of favour and disgrace. Disgrace is being in a low position (after the enjoyment of favour)',\n",
       " 'Our sight it flies, our touch as well. Eluding sight, eluding touch,The forms of things all in it crouch',\n",
       " 'The kingdom is a spirit-like thing, and cannot be got by active doing. He who would so win it destroys it. he who would hold it in his grasp loses it',\n",
       " 'Thus it was that when the Dao was lost, its attributes appeared. when its attributes were lost, benevolence appeared',\n",
       " 'To those who are sincere (with me), I am sincere. and to those who are not sincere (with me), I am also sincere. - and thus (all) get to be sincere',\n",
       " '(Transformation according to circumstances)The government that seems the most unwise,Oft goodness to the people best supplies',\n",
       " 'Ability to know this model and rule constitutes what we call the mysterious excellence (of a governor)',\n",
       " 'The (part of the bow) which was high is brought low, and what was low is raised up']"
      ]
     },
     "execution_count": 134,
     "metadata": {},
     "output_type": "execute_result"
    }
   ],
   "source": [
    "ddj_passages = soup.get_text().split('\\n')[448:-20:4]\n",
    "ddj_chunks = []\n",
    "for passage in ddj_passages:\n",
    "    ddj_chunks.extend(break_into_chunks(passage))\n",
    "ddj_chunks[10:1000:50]"
   ]
  },
  {
   "cell_type": "code",
   "execution_count": 136,
   "metadata": {},
   "outputs": [],
   "source": [
    "with open('data/ddj_passages.txt', 'w+') as f:\n",
    "    for chunk in ddj_chunks:\n",
    "        f.write(chunk + '\\n')"
   ]
  },
  {
   "cell_type": "code",
   "execution_count": 69,
   "metadata": {},
   "outputs": [],
   "source": [
    "#print(soup.prettify())"
   ]
  },
  {
   "cell_type": "code",
   "execution_count": 70,
   "metadata": {},
   "outputs": [],
   "source": [
    "#soup.find_all('tr')[3:7].find_all('tr')[2].find_all('td')"
   ]
  },
  {
   "cell_type": "code",
   "execution_count": 71,
   "metadata": {},
   "outputs": [],
   "source": [
    "#soup.find_all('table')[2].find_all('tr')[0].find_all('td')"
   ]
  },
  {
   "cell_type": "code",
   "execution_count": 137,
   "metadata": {},
   "outputs": [],
   "source": [
    "# soup.find_all('table')[2].find_all('tr')[-1].find_all('td')[1]\n",
    "#re.sub('[\\r\\t\\n]', '', soup.find_all('table')[2].find_all('tr')[-1].find_all('td')[1].text)"
   ]
  },
  {
   "cell_type": "code",
   "execution_count": 79,
   "metadata": {},
   "outputs": [
    {
     "data": {
      "image/png": "[encoded data removed]",
      "text/plain": [
       "<Figure size 432x288 with 1 Axes>"
      ]
     },
     "metadata": {},
     "output_type": "display_data"
    }
   ],
   "source": [
    "import pandas as pd\n",
    "import matplotlib.pyplot as plt\n",
    "pd.DataFrame(all_commentaries)[0].str.len().hist()\n",
    "plt.show()"
   ]
  },
  {
   "cell_type": "code",
   "execution_count": 105,
   "metadata": {},
   "outputs": [
    {
     "data": {
      "image/png": "[encoded data removed]",
      "text/plain": [
       "<Figure size 432x288 with 1 Axes>"
      ]
     },
     "metadata": {},
     "output_type": "display_data"
    }
   ],
   "source": [
    "pd.DataFrame(all_quotes)[0].str.len().hist()\n",
    "plt.show()"
   ]
  },
  {
   "cell_type": "code",
   "execution_count": 108,
   "metadata": {},
   "outputs": [
    {
     "data": {
      "image/png": "[encoded data removed]",
      "text/plain": [
       "<Figure size 432x288 with 1 Axes>"
      ]
     },
     "metadata": {},
     "output_type": "display_data"
    }
   ],
   "source": [
    "\n",
    "pd.DataFrame(soup.get_text().split('\\n')[448:-20:4])[0].str.len().hist()\n",
    "plt.show()"
   ]
  },
  {
   "cell_type": "code",
   "execution_count": null,
   "metadata": {},
   "outputs": [],
   "source": []
  }
 ],
 "metadata": {
  "kernelspec": {
   "display_name": "Python 3",
   "language": "python",
   "name": "python3"
  },
  "language_info": {
   "codemirror_mode": {
    "name": "ipython",
    "version": 3
   },
   "file_extension": ".py",
   "mimetype": "text/x-python",
   "name": "python",
   "nbconvert_exporter": "python",
   "pygments_lexer": "ipython3",
   "version": "3.6.5"
  }
 },
 "nbformat": 4,
 "nbformat_minor": 2
}
